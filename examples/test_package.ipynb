{
 "cells": [
  {
   "cell_type": "markdown",
   "metadata": {},
   "source": [
    "## Imports"
   ]
  },
  {
   "cell_type": "code",
   "execution_count": 60,
   "metadata": {},
   "outputs": [],
   "source": [
    "import fast_xbrl_parser\n",
    "import os, sys, re, json\n",
    "import pandas as pd"
   ]
  },
  {
   "cell_type": "markdown",
   "metadata": {},
   "source": [
    "## Urls"
   ]
  },
  {
   "cell_type": "code",
   "execution_count": 61,
   "metadata": {},
   "outputs": [],
   "source": [
    "url = 'https://www.sec.gov/Archives/edgar/data/1589526/000158952621000140/blbd-20211002_htm.xml'\n",
    "#url = \"https://www.sec.gov/Archives/edgar/data/1556179/000155837021016839/rmri-20210930x10q_htm.xml\"\n",
    "#url = \"https://www.sec.gov/Archives/edgar/data/1813756/000119312521361365/d237007d10ka_htm.xml\"\n",
    "#url = \"https://www.sec.gov/Archives/edgar/data/1813756/000119312521308162/d188107d8k_htm.xml\"\n",
    "url = \"https://www.sec.gov/Archives/edgar/data/1730168/000173016821000153/avgo-20211031_htm.xml\""
   ]
  },
  {
   "cell_type": "code",
   "execution_count": 62,
   "metadata": {},
   "outputs": [
    {
     "name": "stdout",
     "output_type": "stream",
     "text": [
      "https://www.sec.gov/Archives/edgar/data/1730168/000173016821000153/avgo-20211031_htm.xml\n"
     ]
    }
   ],
   "source": [
    "print(url)"
   ]
  },
  {
   "cell_type": "markdown",
   "metadata": {},
   "source": [
    "## Params"
   ]
  },
  {
   "cell_type": "code",
   "execution_count": 63,
   "metadata": {},
   "outputs": [],
   "source": [
    "email = \"Ties@Ties.com\"\n",
    "store = r\"D:\\xbrl_storage\""
   ]
  },
  {
   "cell_type": "markdown",
   "metadata": {},
   "source": [
    "## Test the url parser"
   ]
  },
  {
   "cell_type": "code",
   "execution_count": 64,
   "metadata": {},
   "outputs": [],
   "source": [
    "url_data = fast_xbrl_parser.parse_url(url, store=store)"
   ]
  },
  {
   "cell_type": "code",
   "execution_count": 65,
   "metadata": {},
   "outputs": [
    {
     "data": {
      "text/plain": [
       "'000173016821000153'"
      ]
     },
     "execution_count": 65,
     "metadata": {},
     "output_type": "execute_result"
    }
   ],
   "source": [
    "url_data.accession_number"
   ]
  },
  {
   "cell_type": "code",
   "execution_count": 66,
   "metadata": {},
   "outputs": [
    {
     "data": {
      "text/plain": [
       "False"
      ]
     },
     "execution_count": 66,
     "metadata": {},
     "output_type": "execute_result"
    }
   ],
   "source": [
    "url_data.done"
   ]
  },
  {
   "cell_type": "code",
   "execution_count": 67,
   "metadata": {},
   "outputs": [
    {
     "data": {
      "text/plain": [
       "1730168"
      ]
     },
     "execution_count": 67,
     "metadata": {},
     "output_type": "execute_result"
    }
   ],
   "source": [
    "url_data.cik"
   ]
  },
  {
   "cell_type": "code",
   "execution_count": 68,
   "metadata": {},
   "outputs": [
    {
     "data": {
      "text/plain": [
       "'D:\\\\xbrl_storage\\\\0001730168\\\\1730168-=-000173016821000153.json'"
      ]
     },
     "execution_count": 68,
     "metadata": {},
     "output_type": "execute_result"
    }
   ],
   "source": [
    "url_data.file_path"
   ]
  },
  {
   "cell_type": "markdown",
   "metadata": {},
   "source": [
    "## Get external using URL"
   ]
  },
  {
   "cell_type": "markdown",
   "metadata": {},
   "source": [
    "### Get raw json"
   ]
  },
  {
   "cell_type": "code",
   "execution_count": 69,
   "metadata": {},
   "outputs": [],
   "source": [
    "#url = \"https://www.sec.gov/Archives/edgar/data/1813756/000119312521361365/d237007d10ka_htm.xml\""
   ]
  },
  {
   "cell_type": "code",
   "execution_count": 70,
   "metadata": {},
   "outputs": [
    {
     "name": "stdout",
     "output_type": "stream",
     "text": [
      "1906\n",
      "Wall time: 1.95 s\n"
     ]
    }
   ],
   "source": [
    "%%time\n",
    "xbrl_json = fast_xbrl_parser.parse_xbrl(url, email=email, store=store)\n",
    "print(xbrl_json['num_facts'])"
   ]
  },
  {
   "cell_type": "markdown",
   "metadata": {},
   "source": [
    "### Get facts table"
   ]
  },
  {
   "cell_type": "code",
   "execution_count": 71,
   "metadata": {},
   "outputs": [],
   "source": [
    "xbrl_facts = fast_xbrl_parser.parse_xbrl(url, output=\"facts\", email=email, store=store)"
   ]
  },
  {
   "cell_type": "code",
   "execution_count": 72,
   "metadata": {},
   "outputs": [
    {
     "data": {
      "text/html": [
       "<div>\n",
       "<style scoped>\n",
       "    .dataframe tbody tr th:only-of-type {\n",
       "        vertical-align: middle;\n",
       "    }\n",
       "\n",
       "    .dataframe tbody tr th {\n",
       "        vertical-align: top;\n",
       "    }\n",
       "\n",
       "    .dataframe thead th {\n",
       "        text-align: right;\n",
       "    }\n",
       "</style>\n",
       "<table border=\"1\" class=\"dataframe\">\n",
       "  <thead>\n",
       "    <tr style=\"text-align: right;\">\n",
       "      <th></th>\n",
       "      <th>cik</th>\n",
       "      <th>filing_id</th>\n",
       "      <th>fact_id</th>\n",
       "      <th>tag</th>\n",
       "      <th>value</th>\n",
       "      <th>prefix</th>\n",
       "      <th>prefix_type</th>\n",
       "      <th>period_start</th>\n",
       "      <th>period_end</th>\n",
       "      <th>point_in_time</th>\n",
       "      <th>unit</th>\n",
       "      <th>num_dim</th>\n",
       "    </tr>\n",
       "  </thead>\n",
       "  <tbody>\n",
       "    <tr>\n",
       "      <th>0</th>\n",
       "      <td>1730168</td>\n",
       "      <td>000173016821000153</td>\n",
       "      <td>id3VybDovL2RvY3MudjEvZG9jOjE2ZTM0YWM5Y2Y5ZjQzN...</td>\n",
       "      <td>EntityCentralIndexKey</td>\n",
       "      <td>0001730168</td>\n",
       "      <td>dei</td>\n",
       "      <td>standard</td>\n",
       "      <td>2020-11-02</td>\n",
       "      <td>2021-10-31</td>\n",
       "      <td>None</td>\n",
       "      <td>None</td>\n",
       "      <td>0</td>\n",
       "    </tr>\n",
       "    <tr>\n",
       "      <th>1</th>\n",
       "      <td>1730168</td>\n",
       "      <td>000173016821000153</td>\n",
       "      <td>id3VybDovL2RvY3MudjEvZG9jOjE2ZTM0YWM5Y2Y5ZjQzN...</td>\n",
       "      <td>DocumentFiscalYearFocus</td>\n",
       "      <td>2021</td>\n",
       "      <td>dei</td>\n",
       "      <td>standard</td>\n",
       "      <td>2020-11-02</td>\n",
       "      <td>2021-10-31</td>\n",
       "      <td>None</td>\n",
       "      <td>None</td>\n",
       "      <td>0</td>\n",
       "    </tr>\n",
       "    <tr>\n",
       "      <th>2</th>\n",
       "      <td>1730168</td>\n",
       "      <td>000173016821000153</td>\n",
       "      <td>id3VybDovL2RvY3MudjEvZG9jOjE2ZTM0YWM5Y2Y5ZjQzN...</td>\n",
       "      <td>DocumentFiscalPeriodFocus</td>\n",
       "      <td>FY</td>\n",
       "      <td>dei</td>\n",
       "      <td>standard</td>\n",
       "      <td>2020-11-02</td>\n",
       "      <td>2021-10-31</td>\n",
       "      <td>None</td>\n",
       "      <td>None</td>\n",
       "      <td>0</td>\n",
       "    </tr>\n",
       "    <tr>\n",
       "      <th>3</th>\n",
       "      <td>1730168</td>\n",
       "      <td>000173016821000153</td>\n",
       "      <td>id3VybDovL2RvY3MudjEvZG9jOjE2ZTM0YWM5Y2Y5ZjQzN...</td>\n",
       "      <td>AmendmentFlag</td>\n",
       "      <td>false</td>\n",
       "      <td>dei</td>\n",
       "      <td>standard</td>\n",
       "      <td>2020-11-02</td>\n",
       "      <td>2021-10-31</td>\n",
       "      <td>None</td>\n",
       "      <td>None</td>\n",
       "      <td>0</td>\n",
       "    </tr>\n",
       "    <tr>\n",
       "      <th>4</th>\n",
       "      <td>1730168</td>\n",
       "      <td>000173016821000153</td>\n",
       "      <td>id3VybDovL2RvY3MudjEvZG9jOjE2ZTM0YWM5Y2Y5ZjQzN...</td>\n",
       "      <td>OperatingLeaseRightOfUseAssetStatementOfFinanc...</td>\n",
       "      <td>us-gaap:OtherAssetsNoncurrent</td>\n",
       "      <td>us-gaap</td>\n",
       "      <td>standard</td>\n",
       "      <td>None</td>\n",
       "      <td>None</td>\n",
       "      <td>2021-10-31</td>\n",
       "      <td>None</td>\n",
       "      <td>0</td>\n",
       "    </tr>\n",
       "    <tr>\n",
       "      <th>...</th>\n",
       "      <td>...</td>\n",
       "      <td>...</td>\n",
       "      <td>...</td>\n",
       "      <td>...</td>\n",
       "      <td>...</td>\n",
       "      <td>...</td>\n",
       "      <td>...</td>\n",
       "      <td>...</td>\n",
       "      <td>...</td>\n",
       "      <td>...</td>\n",
       "      <td>...</td>\n",
       "      <td>...</td>\n",
       "    </tr>\n",
       "    <tr>\n",
       "      <th>1901</th>\n",
       "      <td>1730168</td>\n",
       "      <td>000173016821000153</td>\n",
       "      <td>id3VybDovL2RvY3MudjEvZG9jOjE2ZTM0YWM5Y2Y5ZjQzN...</td>\n",
       "      <td>ValuationAllowancesAndReservesBalance</td>\n",
       "      <td>1347000000</td>\n",
       "      <td>us-gaap</td>\n",
       "      <td>standard</td>\n",
       "      <td>None</td>\n",
       "      <td>None</td>\n",
       "      <td>2018-11-04</td>\n",
       "      <td>unit -- iso4217:USD</td>\n",
       "      <td>1</td>\n",
       "    </tr>\n",
       "    <tr>\n",
       "      <th>1902</th>\n",
       "      <td>1730168</td>\n",
       "      <td>000173016821000153</td>\n",
       "      <td>id3VybDovL2RvY3MudjEvZG9jOjE2ZTM0YWM5Y2Y5ZjQzN...</td>\n",
       "      <td>SECSchedule1209ValuationAllowancesAndReservesA...</td>\n",
       "      <td>284000000</td>\n",
       "      <td>avgo</td>\n",
       "      <td>custom</td>\n",
       "      <td>2018-11-05</td>\n",
       "      <td>2019-11-03</td>\n",
       "      <td>None</td>\n",
       "      <td>unit -- iso4217:USD</td>\n",
       "      <td>1</td>\n",
       "    </tr>\n",
       "    <tr>\n",
       "      <th>1903</th>\n",
       "      <td>1730168</td>\n",
       "      <td>000173016821000153</td>\n",
       "      <td>id3VybDovL2RvY3MudjEvZG9jOjE2ZTM0YWM5Y2Y5ZjQzN...</td>\n",
       "      <td>ValuationAllowancesAndReservesDeductions</td>\n",
       "      <td>68000000</td>\n",
       "      <td>us-gaap</td>\n",
       "      <td>standard</td>\n",
       "      <td>2018-11-05</td>\n",
       "      <td>2019-11-03</td>\n",
       "      <td>None</td>\n",
       "      <td>unit -- iso4217:USD</td>\n",
       "      <td>1</td>\n",
       "    </tr>\n",
       "    <tr>\n",
       "      <th>1904</th>\n",
       "      <td>1730168</td>\n",
       "      <td>000173016821000153</td>\n",
       "      <td>id3VybDovL2RvY3MudjEvZG9jOjE2ZTM0YWM5Y2Y5ZjQzN...</td>\n",
       "      <td>ValuationAllowancesAndReservesBalance</td>\n",
       "      <td>1563000000</td>\n",
       "      <td>us-gaap</td>\n",
       "      <td>standard</td>\n",
       "      <td>None</td>\n",
       "      <td>None</td>\n",
       "      <td>2019-11-03</td>\n",
       "      <td>unit -- iso4217:USD</td>\n",
       "      <td>1</td>\n",
       "    </tr>\n",
       "    <tr>\n",
       "      <th>1905</th>\n",
       "      <td>1730168</td>\n",
       "      <td>000173016821000153</td>\n",
       "      <td></td>\n",
       "      <td>footnoteLink</td>\n",
       "      <td></td>\n",
       "      <td>link</td>\n",
       "      <td>custom</td>\n",
       "      <td>None</td>\n",
       "      <td>None</td>\n",
       "      <td>None</td>\n",
       "      <td>None</td>\n",
       "      <td>0</td>\n",
       "    </tr>\n",
       "  </tbody>\n",
       "</table>\n",
       "<p>1906 rows × 12 columns</p>\n",
       "</div>"
      ],
      "text/plain": [
       "          cik           filing_id  \\\n",
       "0     1730168  000173016821000153   \n",
       "1     1730168  000173016821000153   \n",
       "2     1730168  000173016821000153   \n",
       "3     1730168  000173016821000153   \n",
       "4     1730168  000173016821000153   \n",
       "...       ...                 ...   \n",
       "1901  1730168  000173016821000153   \n",
       "1902  1730168  000173016821000153   \n",
       "1903  1730168  000173016821000153   \n",
       "1904  1730168  000173016821000153   \n",
       "1905  1730168  000173016821000153   \n",
       "\n",
       "                                                fact_id  \\\n",
       "0     id3VybDovL2RvY3MudjEvZG9jOjE2ZTM0YWM5Y2Y5ZjQzN...   \n",
       "1     id3VybDovL2RvY3MudjEvZG9jOjE2ZTM0YWM5Y2Y5ZjQzN...   \n",
       "2     id3VybDovL2RvY3MudjEvZG9jOjE2ZTM0YWM5Y2Y5ZjQzN...   \n",
       "3     id3VybDovL2RvY3MudjEvZG9jOjE2ZTM0YWM5Y2Y5ZjQzN...   \n",
       "4     id3VybDovL2RvY3MudjEvZG9jOjE2ZTM0YWM5Y2Y5ZjQzN...   \n",
       "...                                                 ...   \n",
       "1901  id3VybDovL2RvY3MudjEvZG9jOjE2ZTM0YWM5Y2Y5ZjQzN...   \n",
       "1902  id3VybDovL2RvY3MudjEvZG9jOjE2ZTM0YWM5Y2Y5ZjQzN...   \n",
       "1903  id3VybDovL2RvY3MudjEvZG9jOjE2ZTM0YWM5Y2Y5ZjQzN...   \n",
       "1904  id3VybDovL2RvY3MudjEvZG9jOjE2ZTM0YWM5Y2Y5ZjQzN...   \n",
       "1905                                                      \n",
       "\n",
       "                                                    tag  \\\n",
       "0                                 EntityCentralIndexKey   \n",
       "1                               DocumentFiscalYearFocus   \n",
       "2                             DocumentFiscalPeriodFocus   \n",
       "3                                         AmendmentFlag   \n",
       "4     OperatingLeaseRightOfUseAssetStatementOfFinanc...   \n",
       "...                                                 ...   \n",
       "1901              ValuationAllowancesAndReservesBalance   \n",
       "1902  SECSchedule1209ValuationAllowancesAndReservesA...   \n",
       "1903           ValuationAllowancesAndReservesDeductions   \n",
       "1904              ValuationAllowancesAndReservesBalance   \n",
       "1905                                       footnoteLink   \n",
       "\n",
       "                              value   prefix prefix_type period_start  \\\n",
       "0                        0001730168      dei    standard   2020-11-02   \n",
       "1                              2021      dei    standard   2020-11-02   \n",
       "2                                FY      dei    standard   2020-11-02   \n",
       "3                             false      dei    standard   2020-11-02   \n",
       "4     us-gaap:OtherAssetsNoncurrent  us-gaap    standard         None   \n",
       "...                             ...      ...         ...          ...   \n",
       "1901                     1347000000  us-gaap    standard         None   \n",
       "1902                      284000000     avgo      custom   2018-11-05   \n",
       "1903                       68000000  us-gaap    standard   2018-11-05   \n",
       "1904                     1563000000  us-gaap    standard         None   \n",
       "1905                                    link      custom         None   \n",
       "\n",
       "      period_end point_in_time                 unit  num_dim  \n",
       "0     2021-10-31          None                 None        0  \n",
       "1     2021-10-31          None                 None        0  \n",
       "2     2021-10-31          None                 None        0  \n",
       "3     2021-10-31          None                 None        0  \n",
       "4           None    2021-10-31                 None        0  \n",
       "...          ...           ...                  ...      ...  \n",
       "1901        None    2018-11-04  unit -- iso4217:USD        1  \n",
       "1902  2019-11-03          None  unit -- iso4217:USD        1  \n",
       "1903  2019-11-03          None  unit -- iso4217:USD        1  \n",
       "1904        None    2019-11-03  unit -- iso4217:USD        1  \n",
       "1905        None          None                 None        0  \n",
       "\n",
       "[1906 rows x 12 columns]"
      ]
     },
     "execution_count": 72,
     "metadata": {},
     "output_type": "execute_result"
    }
   ],
   "source": [
    "xbrl_facts"
   ]
  },
  {
   "cell_type": "markdown",
   "metadata": {},
   "source": [
    "## Parse local XML file"
   ]
  },
  {
   "cell_type": "code",
   "execution_count": 14,
   "metadata": {},
   "outputs": [],
   "source": [
    "xml_file = r\"F:\\rust_projects\\fast_xbrl_parser\\examples\\ibm-20210331x10q_htm.xml\""
   ]
  },
  {
   "cell_type": "markdown",
   "metadata": {},
   "source": [
    "### Straight json"
   ]
  },
  {
   "cell_type": "code",
   "execution_count": 33,
   "metadata": {},
   "outputs": [
    {
     "name": "stdout",
     "output_type": "stream",
     "text": [
      "1728\n",
      "Wall time: 124 ms\n"
     ]
    }
   ],
   "source": [
    "%%time\n",
    "xbrl_json = fast_xbrl_parser.parse_xbrl(xml_file, store=store)\n",
    "print(len(xbrl_json))"
   ]
  },
  {
   "cell_type": "markdown",
   "metadata": {},
   "source": [
    "### To dataframe"
   ]
  },
  {
   "cell_type": "code",
   "execution_count": 34,
   "metadata": {},
   "outputs": [
    {
     "name": "stdout",
     "output_type": "stream",
     "text": [
      "Wall time: 125 ms\n"
     ]
    }
   ],
   "source": [
    "%%time\n",
    "xbrl_df = fast_xbrl_parser.parse_xbrl(xml_file, output = \"facts\", store=store)"
   ]
  },
  {
   "cell_type": "code",
   "execution_count": 30,
   "metadata": {},
   "outputs": [
    {
     "data": {
      "text/html": [
       "<div>\n",
       "<style scoped>\n",
       "    .dataframe tbody tr th:only-of-type {\n",
       "        vertical-align: middle;\n",
       "    }\n",
       "\n",
       "    .dataframe tbody tr th {\n",
       "        vertical-align: top;\n",
       "    }\n",
       "\n",
       "    .dataframe thead th {\n",
       "        text-align: right;\n",
       "    }\n",
       "</style>\n",
       "<table border=\"1\" class=\"dataframe\">\n",
       "  <thead>\n",
       "    <tr style=\"text-align: right;\">\n",
       "      <th></th>\n",
       "      <th>cik</th>\n",
       "      <th>filing_id</th>\n",
       "      <th>fact_id</th>\n",
       "      <th>tag</th>\n",
       "      <th>value</th>\n",
       "      <th>prefix</th>\n",
       "      <th>prefix_type</th>\n",
       "      <th>period_start</th>\n",
       "      <th>period_end</th>\n",
       "      <th>point_in_time</th>\n",
       "      <th>unit</th>\n",
       "      <th>num_dim</th>\n",
       "    </tr>\n",
       "  </thead>\n",
       "  <tbody>\n",
       "    <tr>\n",
       "      <th>0</th>\n",
       "      <td>None</td>\n",
       "      <td>ibm-20210331x10q_htm.xml</td>\n",
       "      <td>Hidden_zOHW26Vz0UufF7bQm8tm9w</td>\n",
       "      <td>DerivativeNotionalAmount</td>\n",
       "      <td>0</td>\n",
       "      <td>us-gaap</td>\n",
       "      <td>standard</td>\n",
       "      <td>None</td>\n",
       "      <td>None</td>\n",
       "      <td>2021-03-31</td>\n",
       "      <td>unit -- iso4217:USD</td>\n",
       "      <td>2</td>\n",
       "    </tr>\n",
       "    <tr>\n",
       "      <th>1</th>\n",
       "      <td>None</td>\n",
       "      <td>ibm-20210331x10q_htm.xml</td>\n",
       "      <td>Hidden_2HILqCoixka50CsNgCv-7g</td>\n",
       "      <td>DerivativeNotionalAmount</td>\n",
       "      <td>0</td>\n",
       "      <td>us-gaap</td>\n",
       "      <td>standard</td>\n",
       "      <td>None</td>\n",
       "      <td>None</td>\n",
       "      <td>2020-12-31</td>\n",
       "      <td>unit -- iso4217:USD</td>\n",
       "      <td>2</td>\n",
       "    </tr>\n",
       "    <tr>\n",
       "      <th>2</th>\n",
       "      <td>None</td>\n",
       "      <td>ibm-20210331x10q_htm.xml</td>\n",
       "      <td>Tc_jUjBIJVtcUCwL5--JRBcJg_2_1</td>\n",
       "      <td>EntityCentralIndexKey</td>\n",
       "      <td>0000051143</td>\n",
       "      <td>dei</td>\n",
       "      <td>standard</td>\n",
       "      <td>2021-01-01</td>\n",
       "      <td>2021-03-31</td>\n",
       "      <td>None</td>\n",
       "      <td>None</td>\n",
       "      <td>0</td>\n",
       "    </tr>\n",
       "    <tr>\n",
       "      <th>3</th>\n",
       "      <td>None</td>\n",
       "      <td>ibm-20210331x10q_htm.xml</td>\n",
       "      <td>Tc_2H5xpfpRtEestLvu-w_exw_3_1</td>\n",
       "      <td>CurrentFiscalYearEndDate</td>\n",
       "      <td>--12-31</td>\n",
       "      <td>dei</td>\n",
       "      <td>standard</td>\n",
       "      <td>2021-01-01</td>\n",
       "      <td>2021-03-31</td>\n",
       "      <td>None</td>\n",
       "      <td>None</td>\n",
       "      <td>0</td>\n",
       "    </tr>\n",
       "    <tr>\n",
       "      <th>4</th>\n",
       "      <td>None</td>\n",
       "      <td>ibm-20210331x10q_htm.xml</td>\n",
       "      <td>Tc_CQuFG-irEUeTPCj74_G9bA_4_1</td>\n",
       "      <td>DocumentFiscalYearFocus</td>\n",
       "      <td>2021</td>\n",
       "      <td>dei</td>\n",
       "      <td>standard</td>\n",
       "      <td>2021-01-01</td>\n",
       "      <td>2021-03-31</td>\n",
       "      <td>None</td>\n",
       "      <td>None</td>\n",
       "      <td>0</td>\n",
       "    </tr>\n",
       "    <tr>\n",
       "      <th>...</th>\n",
       "      <td>...</td>\n",
       "      <td>...</td>\n",
       "      <td>...</td>\n",
       "      <td>...</td>\n",
       "      <td>...</td>\n",
       "      <td>...</td>\n",
       "      <td>...</td>\n",
       "      <td>...</td>\n",
       "      <td>...</td>\n",
       "      <td>...</td>\n",
       "      <td>...</td>\n",
       "      <td>...</td>\n",
       "    </tr>\n",
       "    <tr>\n",
       "      <th>1723</th>\n",
       "      <td>None</td>\n",
       "      <td>ibm-20210331x10q_htm.xml</td>\n",
       "      <td>Narr_XZ3bkxhzn0iycKOHlZ-9-g</td>\n",
       "      <td>DividendsPayableDateDeclaredDayMonthAndYear</td>\n",
       "      <td>2021-04-27</td>\n",
       "      <td>us-gaap</td>\n",
       "      <td>standard</td>\n",
       "      <td>2021-04-27</td>\n",
       "      <td>2021-04-27</td>\n",
       "      <td>None</td>\n",
       "      <td>None</td>\n",
       "      <td>1</td>\n",
       "    </tr>\n",
       "    <tr>\n",
       "      <th>1724</th>\n",
       "      <td>None</td>\n",
       "      <td>ibm-20210331x10q_htm.xml</td>\n",
       "      <td>Narr_SV1C5mohmku7Tx1C9UZotw</td>\n",
       "      <td>CommonStockDividendsPerShareDeclared</td>\n",
       "      <td>1.64</td>\n",
       "      <td>us-gaap</td>\n",
       "      <td>standard</td>\n",
       "      <td>2021-04-27</td>\n",
       "      <td>2021-04-27</td>\n",
       "      <td>None</td>\n",
       "      <td>unitNumerator -- iso4217:USD || unitDenominato...</td>\n",
       "      <td>1</td>\n",
       "    </tr>\n",
       "    <tr>\n",
       "      <th>1725</th>\n",
       "      <td>None</td>\n",
       "      <td>ibm-20210331x10q_htm.xml</td>\n",
       "      <td>Narr_kspALNsLFk22EjdGLoG2ZA</td>\n",
       "      <td>DividendPayableDateToBePaidDayMonthAndYear</td>\n",
       "      <td>2021-06-10</td>\n",
       "      <td>us-gaap</td>\n",
       "      <td>standard</td>\n",
       "      <td>2021-04-27</td>\n",
       "      <td>2021-04-27</td>\n",
       "      <td>None</td>\n",
       "      <td>None</td>\n",
       "      <td>1</td>\n",
       "    </tr>\n",
       "    <tr>\n",
       "      <th>1726</th>\n",
       "      <td>None</td>\n",
       "      <td>ibm-20210331x10q_htm.xml</td>\n",
       "      <td>Narr_3RAOjTpUaEunXuxlyOkuLQ</td>\n",
       "      <td>DividendsPayableDateOfRecordDayMonthAndYear</td>\n",
       "      <td>2021-05-10</td>\n",
       "      <td>us-gaap</td>\n",
       "      <td>standard</td>\n",
       "      <td>2021-04-27</td>\n",
       "      <td>2021-04-27</td>\n",
       "      <td>None</td>\n",
       "      <td>None</td>\n",
       "      <td>1</td>\n",
       "    </tr>\n",
       "    <tr>\n",
       "      <th>1727</th>\n",
       "      <td>None</td>\n",
       "      <td>ibm-20210331x10q_htm.xml</td>\n",
       "      <td></td>\n",
       "      <td>footnoteLink</td>\n",
       "      <td></td>\n",
       "      <td>link</td>\n",
       "      <td>custom</td>\n",
       "      <td>None</td>\n",
       "      <td>None</td>\n",
       "      <td>None</td>\n",
       "      <td>None</td>\n",
       "      <td>0</td>\n",
       "    </tr>\n",
       "  </tbody>\n",
       "</table>\n",
       "<p>1728 rows × 12 columns</p>\n",
       "</div>"
      ],
      "text/plain": [
       "       cik                 filing_id                        fact_id  \\\n",
       "0     None  ibm-20210331x10q_htm.xml  Hidden_zOHW26Vz0UufF7bQm8tm9w   \n",
       "1     None  ibm-20210331x10q_htm.xml  Hidden_2HILqCoixka50CsNgCv-7g   \n",
       "2     None  ibm-20210331x10q_htm.xml  Tc_jUjBIJVtcUCwL5--JRBcJg_2_1   \n",
       "3     None  ibm-20210331x10q_htm.xml  Tc_2H5xpfpRtEestLvu-w_exw_3_1   \n",
       "4     None  ibm-20210331x10q_htm.xml  Tc_CQuFG-irEUeTPCj74_G9bA_4_1   \n",
       "...    ...                       ...                            ...   \n",
       "1723  None  ibm-20210331x10q_htm.xml    Narr_XZ3bkxhzn0iycKOHlZ-9-g   \n",
       "1724  None  ibm-20210331x10q_htm.xml    Narr_SV1C5mohmku7Tx1C9UZotw   \n",
       "1725  None  ibm-20210331x10q_htm.xml    Narr_kspALNsLFk22EjdGLoG2ZA   \n",
       "1726  None  ibm-20210331x10q_htm.xml    Narr_3RAOjTpUaEunXuxlyOkuLQ   \n",
       "1727  None  ibm-20210331x10q_htm.xml                                  \n",
       "\n",
       "                                              tag       value   prefix  \\\n",
       "0                        DerivativeNotionalAmount           0  us-gaap   \n",
       "1                        DerivativeNotionalAmount           0  us-gaap   \n",
       "2                           EntityCentralIndexKey  0000051143      dei   \n",
       "3                        CurrentFiscalYearEndDate     --12-31      dei   \n",
       "4                         DocumentFiscalYearFocus        2021      dei   \n",
       "...                                           ...         ...      ...   \n",
       "1723  DividendsPayableDateDeclaredDayMonthAndYear  2021-04-27  us-gaap   \n",
       "1724         CommonStockDividendsPerShareDeclared        1.64  us-gaap   \n",
       "1725   DividendPayableDateToBePaidDayMonthAndYear  2021-06-10  us-gaap   \n",
       "1726  DividendsPayableDateOfRecordDayMonthAndYear  2021-05-10  us-gaap   \n",
       "1727                                 footnoteLink                 link   \n",
       "\n",
       "     prefix_type period_start  period_end point_in_time  \\\n",
       "0       standard         None        None    2021-03-31   \n",
       "1       standard         None        None    2020-12-31   \n",
       "2       standard   2021-01-01  2021-03-31          None   \n",
       "3       standard   2021-01-01  2021-03-31          None   \n",
       "4       standard   2021-01-01  2021-03-31          None   \n",
       "...          ...          ...         ...           ...   \n",
       "1723    standard   2021-04-27  2021-04-27          None   \n",
       "1724    standard   2021-04-27  2021-04-27          None   \n",
       "1725    standard   2021-04-27  2021-04-27          None   \n",
       "1726    standard   2021-04-27  2021-04-27          None   \n",
       "1727      custom         None        None          None   \n",
       "\n",
       "                                                   unit  num_dim  \n",
       "0                                   unit -- iso4217:USD        2  \n",
       "1                                   unit -- iso4217:USD        2  \n",
       "2                                                  None        0  \n",
       "3                                                  None        0  \n",
       "4                                                  None        0  \n",
       "...                                                 ...      ...  \n",
       "1723                                               None        1  \n",
       "1724  unitNumerator -- iso4217:USD || unitDenominato...        1  \n",
       "1725                                               None        1  \n",
       "1726                                               None        1  \n",
       "1727                                               None        0  \n",
       "\n",
       "[1728 rows x 12 columns]"
      ]
     },
     "execution_count": 30,
     "metadata": {},
     "output_type": "execute_result"
    }
   ],
   "source": [
    "xbrl_df"
   ]
  },
  {
   "cell_type": "code",
   "execution_count": null,
   "metadata": {},
   "outputs": [],
   "source": []
  },
  {
   "cell_type": "code",
   "execution_count": null,
   "metadata": {},
   "outputs": [],
   "source": []
  }
 ],
 "metadata": {
  "kernelspec": {
   "display_name": "Python 3",
   "language": "python",
   "name": "python3"
  },
  "language_info": {
   "codemirror_mode": {
    "name": "ipython",
    "version": 3
   },
   "file_extension": ".py",
   "mimetype": "text/x-python",
   "name": "python",
   "nbconvert_exporter": "python",
   "pygments_lexer": "ipython3",
   "version": "3.7.4"
  }
 },
 "nbformat": 4,
 "nbformat_minor": 2
}
