{
 "cells": [
  {
   "cell_type": "markdown",
   "metadata": {},
   "source": [
    "## Imports"
   ]
  },
  {
   "cell_type": "code",
   "execution_count": 1,
   "metadata": {},
   "outputs": [],
   "source": [
    "import os, json\n",
    "import pandas as pd\n",
    "import numpy as np\n",
    "\n",
    "import fast_xbrl_parser as fxp"
   ]
  },
  {
   "cell_type": "markdown",
   "metadata": {},
   "source": [
    "## Python package"
   ]
  },
  {
   "cell_type": "markdown",
   "metadata": {},
   "source": [
    "### From URL"
   ]
  },
  {
   "cell_type": "code",
   "execution_count": 2,
   "metadata": {},
   "outputs": [],
   "source": [
    "edgar_url = \"https://www.sec.gov/Archives/edgar/data/1326380/000132638021000129/gme-20211030_htm.xml\"\n",
    "\n",
    "## Parse from URL and return all data types\n",
    "xbrl_dict = fxp.parse(\n",
    "    edgar_url, \n",
    "    output=['json', 'facts', 'dimensions'], \n",
    "    email = \"test@test.com\"\n",
    ") "
   ]
  },
  {
   "cell_type": "code",
   "execution_count": 3,
   "metadata": {},
   "outputs": [],
   "source": [
    "assert isinstance(xbrl_dict['info'], dict)\n",
    "assert isinstance(xbrl_dict['json'], list)\n",
    "assert isinstance(xbrl_dict['facts'], list)\n",
    "assert isinstance(xbrl_dict['dimensions'], list)\n",
    "\n",
    "xbrl_fact_df = pd.DataFrame(xbrl_dict['facts'])\n",
    "xbrl_dim_df = pd.DataFrame(xbrl_dict['dimensions'])\n",
    "\n",
    "assert isinstance(xbrl_fact_df, pd.DataFrame)\n",
    "assert isinstance(xbrl_dim_df, pd.DataFrame)"
   ]
  },
  {
   "cell_type": "code",
   "execution_count": 22,
   "metadata": {},
   "outputs": [
    {
     "data": {
      "text/html": [
       "<div>\n",
       "<style scoped>\n",
       "    .dataframe tbody tr th:only-of-type {\n",
       "        vertical-align: middle;\n",
       "    }\n",
       "\n",
       "    .dataframe tbody tr th {\n",
       "        vertical-align: top;\n",
       "    }\n",
       "\n",
       "    .dataframe thead th {\n",
       "        text-align: right;\n",
       "    }\n",
       "</style>\n",
       "<table border=\"1\" class=\"dataframe\">\n",
       "  <thead>\n",
       "    <tr style=\"text-align: right;\">\n",
       "      <th></th>\n",
       "      <th>cik</th>\n",
       "      <th>accession_number</th>\n",
       "      <th>xml_name</th>\n",
       "      <th>context_ref</th>\n",
       "      <th>axis_prefix</th>\n",
       "      <th>axis_tag</th>\n",
       "      <th>member_prefix</th>\n",
       "      <th>member_tag</th>\n",
       "    </tr>\n",
       "  </thead>\n",
       "  <tbody>\n",
       "    <tr>\n",
       "      <th>0</th>\n",
       "      <td>None</td>\n",
       "      <td>None</td>\n",
       "      <td>gme-20211030_htm</td>\n",
       "      <td>ia25aa9ac961c41a193eef5ff8358ee75_I20210130</td>\n",
       "      <td>us-gaap</td>\n",
       "      <td>StatementEquityComponentsAxis</td>\n",
       "      <td>us-gaap</td>\n",
       "      <td>CommonStockMember</td>\n",
       "    </tr>\n",
       "    <tr>\n",
       "      <th>1</th>\n",
       "      <td>None</td>\n",
       "      <td>None</td>\n",
       "      <td>gme-20211030_htm</td>\n",
       "      <td>ia25aa9ac961c41a193eef5ff8358ee75_I20210130</td>\n",
       "      <td>us-gaap</td>\n",
       "      <td>StatementEquityComponentsAxis</td>\n",
       "      <td>us-gaap</td>\n",
       "      <td>CommonStockMember</td>\n",
       "    </tr>\n",
       "  </tbody>\n",
       "</table>\n",
       "</div>"
      ],
      "text/plain": [
       "    cik accession_number          xml_name  \\\n",
       "0  None             None  gme-20211030_htm   \n",
       "1  None             None  gme-20211030_htm   \n",
       "\n",
       "                                   context_ref axis_prefix  \\\n",
       "0  ia25aa9ac961c41a193eef5ff8358ee75_I20210130     us-gaap   \n",
       "1  ia25aa9ac961c41a193eef5ff8358ee75_I20210130     us-gaap   \n",
       "\n",
       "                        axis_tag member_prefix         member_tag  \n",
       "0  StatementEquityComponentsAxis       us-gaap  CommonStockMember  \n",
       "1  StatementEquityComponentsAxis       us-gaap  CommonStockMember  "
      ]
     },
     "execution_count": 22,
     "metadata": {},
     "output_type": "execute_result"
    }
   ],
   "source": [
    "xbrl_dim_df.head(2)"
   ]
  },
  {
   "cell_type": "code",
   "execution_count": 21,
   "metadata": {},
   "outputs": [
    {
     "data": {
      "text/html": [
       "<div>\n",
       "<style scoped>\n",
       "    .dataframe tbody tr th:only-of-type {\n",
       "        vertical-align: middle;\n",
       "    }\n",
       "\n",
       "    .dataframe tbody tr th {\n",
       "        vertical-align: top;\n",
       "    }\n",
       "\n",
       "    .dataframe thead th {\n",
       "        text-align: right;\n",
       "    }\n",
       "</style>\n",
       "<table border=\"1\" class=\"dataframe\">\n",
       "  <thead>\n",
       "    <tr style=\"text-align: right;\">\n",
       "      <th></th>\n",
       "      <th>cik</th>\n",
       "      <th>accession_number</th>\n",
       "      <th>xml_name</th>\n",
       "      <th>context_ref</th>\n",
       "      <th>tag</th>\n",
       "      <th>value</th>\n",
       "      <th>prefix</th>\n",
       "      <th>prefix_type</th>\n",
       "      <th>period_start</th>\n",
       "      <th>period_end</th>\n",
       "      <th>point_in_time</th>\n",
       "      <th>unit</th>\n",
       "      <th>num_dim</th>\n",
       "    </tr>\n",
       "  </thead>\n",
       "  <tbody>\n",
       "    <tr>\n",
       "      <th>395</th>\n",
       "      <td>None</td>\n",
       "      <td>None</td>\n",
       "      <td>gme-20211030_htm</td>\n",
       "      <td>ibaf9b114da2b46d9a3c3baeec901b547_D20210131-20...</td>\n",
       "      <td>OrganizationConsolidationBasisOfPresentationBu...</td>\n",
       "      <td>General Information The Company GameStop Corp....</td>\n",
       "      <td>us-gaap</td>\n",
       "      <td>standard</td>\n",
       "      <td>2021-01-31</td>\n",
       "      <td>2021-10-30</td>\n",
       "      <td>None</td>\n",
       "      <td>None</td>\n",
       "      <td>0</td>\n",
       "    </tr>\n",
       "    <tr>\n",
       "      <th>397</th>\n",
       "      <td>None</td>\n",
       "      <td>None</td>\n",
       "      <td>gme-20211030_htm</td>\n",
       "      <td>ibaf9b114da2b46d9a3c3baeec901b547_D20210131-20...</td>\n",
       "      <td>BasisOfAccountingPolicyPolicyTextBlock</td>\n",
       "      <td>Basis of Presentation and Consolidation The co...</td>\n",
       "      <td>us-gaap</td>\n",
       "      <td>standard</td>\n",
       "      <td>2021-01-31</td>\n",
       "      <td>2021-10-30</td>\n",
       "      <td>None</td>\n",
       "      <td>None</td>\n",
       "      <td>0</td>\n",
       "    </tr>\n",
       "  </tbody>\n",
       "</table>\n",
       "</div>"
      ],
      "text/plain": [
       "      cik accession_number          xml_name  \\\n",
       "395  None             None  gme-20211030_htm   \n",
       "397  None             None  gme-20211030_htm   \n",
       "\n",
       "                                           context_ref  \\\n",
       "395  ibaf9b114da2b46d9a3c3baeec901b547_D20210131-20...   \n",
       "397  ibaf9b114da2b46d9a3c3baeec901b547_D20210131-20...   \n",
       "\n",
       "                                                   tag  \\\n",
       "395  OrganizationConsolidationBasisOfPresentationBu...   \n",
       "397             BasisOfAccountingPolicyPolicyTextBlock   \n",
       "\n",
       "                                                 value   prefix prefix_type  \\\n",
       "395  General Information The Company GameStop Corp....  us-gaap    standard   \n",
       "397  Basis of Presentation and Consolidation The co...  us-gaap    standard   \n",
       "\n",
       "    period_start  period_end point_in_time  unit  num_dim  \n",
       "395   2021-01-31  2021-10-30          None  None        0  \n",
       "397   2021-01-31  2021-10-30          None  None        0  "
      ]
     },
     "execution_count": 21,
     "metadata": {},
     "output_type": "execute_result"
    }
   ],
   "source": [
    "xbrl_fact_df[xbrl_fact_df.tag.str.contains(\"TextBlock\")].head(2)"
   ]
  },
  {
   "cell_type": "code",
   "execution_count": 23,
   "metadata": {},
   "outputs": [
    {
     "data": {
      "text/html": [
       "<div>\n",
       "<style scoped>\n",
       "    .dataframe tbody tr th:only-of-type {\n",
       "        vertical-align: middle;\n",
       "    }\n",
       "\n",
       "    .dataframe tbody tr th {\n",
       "        vertical-align: top;\n",
       "    }\n",
       "\n",
       "    .dataframe thead th {\n",
       "        text-align: right;\n",
       "    }\n",
       "</style>\n",
       "<table border=\"1\" class=\"dataframe\">\n",
       "  <thead>\n",
       "    <tr style=\"text-align: right;\">\n",
       "      <th></th>\n",
       "      <th>cik</th>\n",
       "      <th>accession_number</th>\n",
       "      <th>xml_name</th>\n",
       "      <th>context_ref</th>\n",
       "      <th>tag</th>\n",
       "      <th>value</th>\n",
       "      <th>prefix</th>\n",
       "      <th>prefix_type</th>\n",
       "      <th>period_start</th>\n",
       "      <th>period_end</th>\n",
       "      <th>point_in_time</th>\n",
       "      <th>unit</th>\n",
       "      <th>num_dim</th>\n",
       "    </tr>\n",
       "  </thead>\n",
       "  <tbody>\n",
       "    <tr>\n",
       "      <th>0</th>\n",
       "      <td>None</td>\n",
       "      <td>None</td>\n",
       "      <td>gme-20211030_htm</td>\n",
       "      <td>ibaf9b114da2b46d9a3c3baeec901b547_D20210131-20...</td>\n",
       "      <td>AmendmentFlag</td>\n",
       "      <td>false</td>\n",
       "      <td>dei</td>\n",
       "      <td>standard</td>\n",
       "      <td>2021-01-31</td>\n",
       "      <td>2021-10-30</td>\n",
       "      <td>None</td>\n",
       "      <td>None</td>\n",
       "      <td>0</td>\n",
       "    </tr>\n",
       "    <tr>\n",
       "      <th>1</th>\n",
       "      <td>None</td>\n",
       "      <td>None</td>\n",
       "      <td>gme-20211030_htm</td>\n",
       "      <td>ibaf9b114da2b46d9a3c3baeec901b547_D20210131-20...</td>\n",
       "      <td>DocumentFiscalYearFocus</td>\n",
       "      <td>2021</td>\n",
       "      <td>dei</td>\n",
       "      <td>standard</td>\n",
       "      <td>2021-01-31</td>\n",
       "      <td>2021-10-30</td>\n",
       "      <td>None</td>\n",
       "      <td>None</td>\n",
       "      <td>0</td>\n",
       "    </tr>\n",
       "  </tbody>\n",
       "</table>\n",
       "</div>"
      ],
      "text/plain": [
       "    cik accession_number          xml_name  \\\n",
       "0  None             None  gme-20211030_htm   \n",
       "1  None             None  gme-20211030_htm   \n",
       "\n",
       "                                         context_ref                      tag  \\\n",
       "0  ibaf9b114da2b46d9a3c3baeec901b547_D20210131-20...            AmendmentFlag   \n",
       "1  ibaf9b114da2b46d9a3c3baeec901b547_D20210131-20...  DocumentFiscalYearFocus   \n",
       "\n",
       "   value prefix prefix_type period_start  period_end point_in_time  unit  \\\n",
       "0  false    dei    standard   2021-01-31  2021-10-30          None  None   \n",
       "1   2021    dei    standard   2021-01-31  2021-10-30          None  None   \n",
       "\n",
       "   num_dim  \n",
       "0        0  \n",
       "1        0  "
      ]
     },
     "execution_count": 23,
     "metadata": {},
     "output_type": "execute_result"
    }
   ],
   "source": [
    "xbrl_fact_df.head(2)"
   ]
  },
  {
   "cell_type": "markdown",
   "metadata": {},
   "source": [
    "### From XML file"
   ]
  },
  {
   "cell_type": "code",
   "execution_count": 6,
   "metadata": {},
   "outputs": [],
   "source": [
    "xml_path = r\"F:\\rust_projects\\fast_xbrl_parser\\tests\\gme-20211030_htm.xml\"\n",
    "xbrl_dict = fxp.parse(\n",
    "    xml_path, \n",
    "    output=['json', 'facts', 'dimensions']\n",
    ")"
   ]
  },
  {
   "cell_type": "code",
   "execution_count": 7,
   "metadata": {},
   "outputs": [],
   "source": [
    "assert isinstance(xbrl_dict['info'], dict)\n",
    "assert isinstance(xbrl_dict['json'], list)\n",
    "assert isinstance(xbrl_dict['facts'], list)\n",
    "assert isinstance(xbrl_dict['dimensions'], list)\n",
    "\n",
    "xbrl_fact_df = pd.DataFrame(xbrl_dict['facts'])\n",
    "xbrl_dim_df = pd.DataFrame(xbrl_dict['dimensions'])\n",
    "\n",
    "assert isinstance(xbrl_fact_df, pd.DataFrame)\n",
    "assert isinstance(xbrl_dim_df, pd.DataFrame)"
   ]
  },
  {
   "cell_type": "markdown",
   "metadata": {},
   "source": [
    "## Command line application"
   ]
  },
  {
   "cell_type": "code",
   "execution_count": 2,
   "metadata": {},
   "outputs": [],
   "source": [
    "url_cmd = r\"\"\"\n",
    "\"F:\\rust_projects\\fast_xbrl_parser\\target\\release\\fast_xbrl_parser.exe\"\n",
    "--input \"https://www.sec.gov/Archives/edgar/data/1589526/000158952621000140/blbd-20211002_htm.xml\" \n",
    "--json --facts --dimensions \n",
    "--save-dir \"D:\\xbrl_storage\" --email \"email@email.com\"\n",
    "\"\"\".replace(\"\\n\", \" \").strip()"
   ]
  },
  {
   "cell_type": "code",
   "execution_count": 3,
   "metadata": {},
   "outputs": [
    {
     "name": "stdout",
     "output_type": "stream",
     "text": [
      "\"F:\\rust_projects\\fast_xbrl_parser\\target\\release\\fast_xbrl_parser.exe\" --input \"https://www.sec.gov/Archives/edgar/data/1589526/000158952621000140/blbd-20211002_htm.xml\"  --json --facts --dimensions  --save-dir \"D:\\xbrl_storage\" --email \"email@email.com\"\n"
     ]
    }
   ],
   "source": [
    "print(url_cmd)"
   ]
  },
  {
   "cell_type": "code",
   "execution_count": 4,
   "metadata": {},
   "outputs": [],
   "source": [
    "return_value = os.popen(url_cmd).read()"
   ]
  },
  {
   "cell_type": "code",
   "execution_count": 12,
   "metadata": {},
   "outputs": [],
   "source": [
    "assert return_value ## TBD"
   ]
  },
  {
   "cell_type": "markdown",
   "metadata": {},
   "source": [
    "### From XML file"
   ]
  },
  {
   "cell_type": "code",
   "execution_count": 17,
   "metadata": {},
   "outputs": [],
   "source": [
    "xml_cmd = \"\"\"\n",
    "fast_xbrl_parser.exe \n",
    "--input F:\\rust_projects\\fast_xbrl_parser\\tests\\gme-20211030_htm.xml\"\n",
    "--json --facts --dimensions \n",
    "--save_dir \"c:/\" --email \"email@email.com\"\n",
    "\"\"\".replace(\"\\n\", \"\")"
   ]
  },
  {
   "cell_type": "code",
   "execution_count": 18,
   "metadata": {},
   "outputs": [],
   "source": [
    "return_value = os.popen(xml_cmd).read()"
   ]
  },
  {
   "cell_type": "code",
   "execution_count": 15,
   "metadata": {},
   "outputs": [
    {
     "ename": "AssertionError",
     "evalue": "",
     "output_type": "error",
     "traceback": [
      "\u001b[1;31m---------------------------------------------------------------------------\u001b[0m",
      "\u001b[1;31mAssertionError\u001b[0m                            Traceback (most recent call last)",
      "\u001b[1;32m<ipython-input-15-8148eb9ea180>\u001b[0m in \u001b[0;36m<module>\u001b[1;34m\u001b[0m\n\u001b[1;32m----> 1\u001b[1;33m \u001b[1;32massert\u001b[0m \u001b[0mreturn_value\u001b[0m \u001b[1;31m## TBD\u001b[0m\u001b[1;33m\u001b[0m\u001b[1;33m\u001b[0m\u001b[0m\n\u001b[0m",
      "\u001b[1;31mAssertionError\u001b[0m: "
     ]
    }
   ],
   "source": [
    "assert return_value ## TBD"
   ]
  }
 ],
 "metadata": {
  "kernelspec": {
   "display_name": "Python 3 (ipykernel)",
   "language": "python",
   "name": "python3"
  },
  "language_info": {
   "codemirror_mode": {
    "name": "ipython",
    "version": 3
   },
   "file_extension": ".py",
   "mimetype": "text/x-python",
   "name": "python",
   "nbconvert_exporter": "python",
   "pygments_lexer": "ipython3",
   "version": "3.9.6"
  }
 },
 "nbformat": 4,
 "nbformat_minor": 2
}
