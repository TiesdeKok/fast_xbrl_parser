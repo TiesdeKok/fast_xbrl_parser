{
 "cells": [
  {
   "cell_type": "markdown",
   "metadata": {},
   "source": [
    "# `fast-xbrl-parser`\n",
    "\n",
    "**Created by:** [Ties de Kok](https://github.com/TiesdeKok)   \n",
    "**Github repository:** [`fast_xbrl_parser`](https://github.com/TiesdeKok/fast_xbrl_parser)   \n",
    "**Last updated:** January 2022"
   ]
  },
  {
   "cell_type": "markdown",
   "metadata": {},
   "source": [
    "## Imports"
   ]
  },
  {
   "cell_type": "code",
   "execution_count": 1,
   "metadata": {},
   "outputs": [],
   "source": [
    "import os, json\n",
    "import pandas as pd\n",
    "import numpy as np\n",
    "\n",
    "import fast_xbrl_parser as fxp"
   ]
  },
  {
   "cell_type": "code",
   "execution_count": 2,
   "metadata": {},
   "outputs": [],
   "source": [
    "import pprint\n",
    "pp = pprint.PrettyPrinter()"
   ]
  },
  {
   "cell_type": "markdown",
   "metadata": {},
   "source": [
    "----\n",
    "\n",
    "# Use as a python package\n",
    "----\n",
    "\n",
    "The `fast-xbrl-parser` package takes either an SEC Edgar or a local path to the XML file as input.   \n",
    "The parser will automatically detect which method to use based on your input.\n",
    "\n",
    "**Note:** the url or path has to directly point at the XML file you are looking to parse.\n",
    "\n",
    "For example: \n",
    "\n",
    "- https://www.sec.gov/Archives/edgar/data/1326380/000132638021000129/gme-20211030_htm.xml will work\n",
    "- https://www.sec.gov/Archives/edgar/data/1326380/000132638021000129/0001326380-21-000129-index.htm does **not** work"
   ]
  },
  {
   "cell_type": "markdown",
   "metadata": {},
   "source": [
    "----\n",
    "----\n",
    "## Load from SEC Edgar URL"
   ]
  },
  {
   "cell_type": "code",
   "execution_count": 3,
   "metadata": {},
   "outputs": [],
   "source": [
    "edgar_url = \"https://www.sec.gov/Archives/edgar/data/1326380/000132638021000129/gme-20211030_htm.xml\"\n",
    "\n",
    "xbrl_dict = fxp.parse(\n",
    "    edgar_url, \n",
    "    output=['json', 'facts', 'dimensions'],   ### You can adjust this to only return certain outputs. \n",
    "    email = \"demo@fast-xbrl-parser.com\"       ### Adjust this to reflect your email address. This is required by the SEC Edgar system. \n",
    ") "
   ]
  },
  {
   "cell_type": "markdown",
   "metadata": {},
   "source": [
    "### Inspect the result  \n",
    "\n",
    "The `fxp.parse()` function will return a dictionary with at most four keys:"
   ]
  },
  {
   "cell_type": "markdown",
   "metadata": {},
   "source": [
    "-----\n",
    "**`info`** contains the basic meta data associated with the filing. "
   ]
  },
  {
   "cell_type": "code",
   "execution_count": 4,
   "metadata": {},
   "outputs": [
    {
     "name": "stdout",
     "output_type": "stream",
     "text": [
      "{'accession_number': '000132638021000129',\n",
      " 'cik': '0001326380',\n",
      " 'input_type': 'Remote',\n",
      " 'raw_input': 'https://www.sec.gov/Archives/edgar/data/1326380/000132638021000129/gme-20211030_htm.xml',\n",
      " 'xml_name': 'gme-20211030_htm'}\n"
     ]
    }
   ],
   "source": [
    "pp.pprint(xbrl_dict['info'])"
   ]
  },
  {
   "cell_type": "markdown",
   "metadata": {},
   "source": [
    "----\n",
    "**`json`** returns a list of Python dictionaries that is easily exported to a JSON file (if need be). \n",
    "\n",
    "You can export it to a json file using:\n",
    "\n",
    "```python\n",
    "with open('filename.json', 'w') as f:\n",
    "    json.dump(xbrl_dict['json'], f)\n",
    "```"
   ]
  },
  {
   "cell_type": "code",
   "execution_count": 5,
   "metadata": {},
   "outputs": [
    {
     "name": "stdout",
     "output_type": "stream",
     "text": [
      "[{'context_ref': 'ie27f0ad36fbf4c8fb4642e21440fbdb1_I20211030',\n",
      "  'decimals': '-5',\n",
      "  'dimensions': [{'key_ns': 'us-gaap',\n",
      "                  'key_value': 'DebtInstrumentAxis',\n",
      "                  'member_ns': 'gme',\n",
      "                  'member_value': 'SeniorNotes1000Due2023Member'},\n",
      "                 {'key_ns': 'us-gaap',\n",
      "                  'key_value': 'LongtermDebtTypeAxis',\n",
      "                  'member_ns': 'us-gaap',\n",
      "                  'member_value': 'SeniorNotesMember'}],\n",
      "  'id': 'id3VybDovL2RvY3MudjEvZG9jOjUzYmQ2ZjI2MzlhMDQ4NjFiYWIwZTVhM2Q2OWFhZjUzL3NlYzo1M2JkNmYyNjM5YTA0ODYxYmFiMGU1YTNkNjlhYWY1M181NS9mcmFnOjA2OGYxNzQ0MDQ5MDRlM2VhYzkwNzI2MjZlYjdlNWQ3L3RhYmxlOjk2ZmZlODI1MTNkYzQxYjA5YTEzYTBiMzJlNGM2OTFmL3RhYmxlcmFuZ2U6OTZmZmU4MjUxM2RjNDFiMDlhMTNhMGIzMmU0YzY5MWZfNS0xLTEtMS0yMDg5OQ_5d7d4fe7-7655-4e69-a494-871e115fa40a',\n",
      "  'name': 'DebtInstrumentCarryingAmount',\n",
      "  'periods': [{'period_type': 'instant', 'period_value': '2021-10-30'}],\n",
      "  'prefix': 'us-gaap',\n",
      "  'unit_ref': 'usd',\n",
      "  'units': [{'unit_type': 'unit', 'unit_value': 'iso4217:USD'}],\n",
      "  'value': '0'}]\n"
     ]
    }
   ],
   "source": [
    "pp.pprint(xbrl_dict['json'][500:501])"
   ]
  },
  {
   "cell_type": "markdown",
   "metadata": {},
   "source": [
    "-----\n",
    "**`facts`** returns a list of Python dictionaries that is easily converted into a Python dictionary or CSV file\n",
    "\n",
    "Note, the primary difference between `json` and `facts` is that the `facts` data does not include the dimensions to make it compatible with a tabular format."
   ]
  },
  {
   "cell_type": "code",
   "execution_count": 6,
   "metadata": {},
   "outputs": [
    {
     "name": "stdout",
     "output_type": "stream",
     "text": [
      "[{'accession_number': '000132638021000129',\n",
      "  'cik': '0001326380',\n",
      "  'context_ref': 'ie27f0ad36fbf4c8fb4642e21440fbdb1_I20211030',\n",
      "  'num_dim': 2,\n",
      "  'period_end': None,\n",
      "  'period_start': None,\n",
      "  'point_in_time': '2021-10-30',\n",
      "  'prefix': 'us-gaap',\n",
      "  'tag': 'DebtInstrumentCarryingAmount',\n",
      "  'unit': 'unit -- iso4217:USD',\n",
      "  'value': '0',\n",
      "  'xml_name': 'gme-20211030_htm'}]\n"
     ]
    }
   ],
   "source": [
    "pp.pprint(xbrl_dict['facts'][500:501])"
   ]
  },
  {
   "cell_type": "code",
   "execution_count": 7,
   "metadata": {},
   "outputs": [
    {
     "data": {
      "text/html": [
       "<div>\n",
       "<style scoped>\n",
       "    .dataframe tbody tr th:only-of-type {\n",
       "        vertical-align: middle;\n",
       "    }\n",
       "\n",
       "    .dataframe tbody tr th {\n",
       "        vertical-align: top;\n",
       "    }\n",
       "\n",
       "    .dataframe thead th {\n",
       "        text-align: right;\n",
       "    }\n",
       "</style>\n",
       "<table border=\"1\" class=\"dataframe\">\n",
       "  <thead>\n",
       "    <tr style=\"text-align: right;\">\n",
       "      <th></th>\n",
       "      <th>cik</th>\n",
       "      <th>accession_number</th>\n",
       "      <th>xml_name</th>\n",
       "      <th>context_ref</th>\n",
       "      <th>tag</th>\n",
       "      <th>value</th>\n",
       "      <th>prefix</th>\n",
       "      <th>period_start</th>\n",
       "      <th>period_end</th>\n",
       "      <th>point_in_time</th>\n",
       "      <th>unit</th>\n",
       "      <th>num_dim</th>\n",
       "    </tr>\n",
       "  </thead>\n",
       "  <tbody>\n",
       "    <tr>\n",
       "      <th>0</th>\n",
       "      <td>0001326380</td>\n",
       "      <td>000132638021000129</td>\n",
       "      <td>gme-20211030_htm</td>\n",
       "      <td>ibaf9b114da2b46d9a3c3baeec901b547_D20210131-20...</td>\n",
       "      <td>AmendmentFlag</td>\n",
       "      <td>false</td>\n",
       "      <td>dei</td>\n",
       "      <td>2021-01-31</td>\n",
       "      <td>2021-10-30</td>\n",
       "      <td>None</td>\n",
       "      <td>None</td>\n",
       "      <td>0</td>\n",
       "    </tr>\n",
       "    <tr>\n",
       "      <th>1</th>\n",
       "      <td>0001326380</td>\n",
       "      <td>000132638021000129</td>\n",
       "      <td>gme-20211030_htm</td>\n",
       "      <td>ibaf9b114da2b46d9a3c3baeec901b547_D20210131-20...</td>\n",
       "      <td>DocumentFiscalYearFocus</td>\n",
       "      <td>2021</td>\n",
       "      <td>dei</td>\n",
       "      <td>2021-01-31</td>\n",
       "      <td>2021-10-30</td>\n",
       "      <td>None</td>\n",
       "      <td>None</td>\n",
       "      <td>0</td>\n",
       "    </tr>\n",
       "    <tr>\n",
       "      <th>2</th>\n",
       "      <td>0001326380</td>\n",
       "      <td>000132638021000129</td>\n",
       "      <td>gme-20211030_htm</td>\n",
       "      <td>ibaf9b114da2b46d9a3c3baeec901b547_D20210131-20...</td>\n",
       "      <td>DocumentFiscalPeriodFocus</td>\n",
       "      <td>Q3</td>\n",
       "      <td>dei</td>\n",
       "      <td>2021-01-31</td>\n",
       "      <td>2021-10-30</td>\n",
       "      <td>None</td>\n",
       "      <td>None</td>\n",
       "      <td>0</td>\n",
       "    </tr>\n",
       "    <tr>\n",
       "      <th>3</th>\n",
       "      <td>0001326380</td>\n",
       "      <td>000132638021000129</td>\n",
       "      <td>gme-20211030_htm</td>\n",
       "      <td>ibaf9b114da2b46d9a3c3baeec901b547_D20210131-20...</td>\n",
       "      <td>EntityCentralIndexKey</td>\n",
       "      <td>0001326380</td>\n",
       "      <td>dei</td>\n",
       "      <td>2021-01-31</td>\n",
       "      <td>2021-10-30</td>\n",
       "      <td>None</td>\n",
       "      <td>None</td>\n",
       "      <td>0</td>\n",
       "    </tr>\n",
       "  </tbody>\n",
       "</table>\n",
       "</div>"
      ],
      "text/plain": [
       "          cik    accession_number          xml_name  \\\n",
       "0  0001326380  000132638021000129  gme-20211030_htm   \n",
       "1  0001326380  000132638021000129  gme-20211030_htm   \n",
       "2  0001326380  000132638021000129  gme-20211030_htm   \n",
       "3  0001326380  000132638021000129  gme-20211030_htm   \n",
       "\n",
       "                                         context_ref  \\\n",
       "0  ibaf9b114da2b46d9a3c3baeec901b547_D20210131-20...   \n",
       "1  ibaf9b114da2b46d9a3c3baeec901b547_D20210131-20...   \n",
       "2  ibaf9b114da2b46d9a3c3baeec901b547_D20210131-20...   \n",
       "3  ibaf9b114da2b46d9a3c3baeec901b547_D20210131-20...   \n",
       "\n",
       "                         tag       value prefix period_start  period_end  \\\n",
       "0              AmendmentFlag       false    dei   2021-01-31  2021-10-30   \n",
       "1    DocumentFiscalYearFocus        2021    dei   2021-01-31  2021-10-30   \n",
       "2  DocumentFiscalPeriodFocus          Q3    dei   2021-01-31  2021-10-30   \n",
       "3      EntityCentralIndexKey  0001326380    dei   2021-01-31  2021-10-30   \n",
       "\n",
       "  point_in_time  unit  num_dim  \n",
       "0          None  None        0  \n",
       "1          None  None        0  \n",
       "2          None  None        0  \n",
       "3          None  None        0  "
      ]
     },
     "execution_count": 7,
     "metadata": {},
     "output_type": "execute_result"
    }
   ],
   "source": [
    "## It converts straight into a Pandas dataframe\n",
    "facts_df = pd.DataFrame(xbrl_dict['facts'])\n",
    "facts_df.head(4)"
   ]
  },
  {
   "cell_type": "markdown",
   "metadata": {},
   "source": [
    "-----\n",
    "**`dimensions`** returns a list of Python dictionaries containing the dimensions. It is designed to be converted to a Pandas DataFrame and CSV/Excel file."
   ]
  },
  {
   "cell_type": "code",
   "execution_count": 8,
   "metadata": {},
   "outputs": [
    {
     "name": "stdout",
     "output_type": "stream",
     "text": [
      "[{'accession_number': '000132638021000129',\n",
      "  'axis_prefix': 'us-gaap',\n",
      "  'axis_tag': 'FairValueByFairValueHierarchyLevelAxis',\n",
      "  'cik': '0001326380',\n",
      "  'context_ref': 'id3a13c29bf2d4ea6a3d39260eac407f4_I20210130',\n",
      "  'member_prefix': 'us-gaap',\n",
      "  'member_tag': 'FairValueInputsLevel2Member',\n",
      "  'xml_name': 'gme-20211030_htm'}]\n"
     ]
    }
   ],
   "source": [
    "pp.pprint(xbrl_dict['dimensions'][100:101])"
   ]
  },
  {
   "cell_type": "code",
   "execution_count": 9,
   "metadata": {},
   "outputs": [
    {
     "data": {
      "text/html": [
       "<div>\n",
       "<style scoped>\n",
       "    .dataframe tbody tr th:only-of-type {\n",
       "        vertical-align: middle;\n",
       "    }\n",
       "\n",
       "    .dataframe tbody tr th {\n",
       "        vertical-align: top;\n",
       "    }\n",
       "\n",
       "    .dataframe thead th {\n",
       "        text-align: right;\n",
       "    }\n",
       "</style>\n",
       "<table border=\"1\" class=\"dataframe\">\n",
       "  <thead>\n",
       "    <tr style=\"text-align: right;\">\n",
       "      <th></th>\n",
       "      <th>cik</th>\n",
       "      <th>accession_number</th>\n",
       "      <th>xml_name</th>\n",
       "      <th>context_ref</th>\n",
       "      <th>axis_prefix</th>\n",
       "      <th>axis_tag</th>\n",
       "      <th>member_prefix</th>\n",
       "      <th>member_tag</th>\n",
       "    </tr>\n",
       "  </thead>\n",
       "  <tbody>\n",
       "    <tr>\n",
       "      <th>0</th>\n",
       "      <td>0001326380</td>\n",
       "      <td>000132638021000129</td>\n",
       "      <td>gme-20211030_htm</td>\n",
       "      <td>ia25aa9ac961c41a193eef5ff8358ee75_I20210130</td>\n",
       "      <td>us-gaap</td>\n",
       "      <td>StatementEquityComponentsAxis</td>\n",
       "      <td>us-gaap</td>\n",
       "      <td>CommonStockMember</td>\n",
       "    </tr>\n",
       "    <tr>\n",
       "      <th>2</th>\n",
       "      <td>0001326380</td>\n",
       "      <td>000132638021000129</td>\n",
       "      <td>gme-20211030_htm</td>\n",
       "      <td>i847f9af0c3e54b078102df606a9f64aa_I20210130</td>\n",
       "      <td>us-gaap</td>\n",
       "      <td>StatementEquityComponentsAxis</td>\n",
       "      <td>us-gaap</td>\n",
       "      <td>AdditionalPaidInCapitalMember</td>\n",
       "    </tr>\n",
       "  </tbody>\n",
       "</table>\n",
       "</div>"
      ],
      "text/plain": [
       "          cik    accession_number          xml_name  \\\n",
       "0  0001326380  000132638021000129  gme-20211030_htm   \n",
       "2  0001326380  000132638021000129  gme-20211030_htm   \n",
       "\n",
       "                                   context_ref axis_prefix  \\\n",
       "0  ia25aa9ac961c41a193eef5ff8358ee75_I20210130     us-gaap   \n",
       "2  i847f9af0c3e54b078102df606a9f64aa_I20210130     us-gaap   \n",
       "\n",
       "                        axis_tag member_prefix                     member_tag  \n",
       "0  StatementEquityComponentsAxis       us-gaap              CommonStockMember  \n",
       "2  StatementEquityComponentsAxis       us-gaap  AdditionalPaidInCapitalMember  "
      ]
     },
     "execution_count": 9,
     "metadata": {},
     "output_type": "execute_result"
    }
   ],
   "source": [
    "## It converts straight into a Pandas dataframe\n",
    "dimensions_df = pd.DataFrame(xbrl_dict['dimensions'])\n",
    "dimensions_df = dimensions_df.drop_duplicates() ## <--- Temporary, will be fixed in a future version\n",
    "dimensions_df.head(2)"
   ]
  },
  {
   "cell_type": "code",
   "execution_count": 10,
   "metadata": {
    "scrolled": true
   },
   "outputs": [
    {
     "data": {
      "text/html": [
       "<div>\n",
       "<style scoped>\n",
       "    .dataframe tbody tr th:only-of-type {\n",
       "        vertical-align: middle;\n",
       "    }\n",
       "\n",
       "    .dataframe tbody tr th {\n",
       "        vertical-align: top;\n",
       "    }\n",
       "\n",
       "    .dataframe thead th {\n",
       "        text-align: right;\n",
       "    }\n",
       "</style>\n",
       "<table border=\"1\" class=\"dataframe\">\n",
       "  <thead>\n",
       "    <tr style=\"text-align: right;\">\n",
       "      <th></th>\n",
       "      <th>cik</th>\n",
       "      <th>accession_number</th>\n",
       "      <th>xml_name</th>\n",
       "      <th>context_ref</th>\n",
       "      <th>tag</th>\n",
       "      <th>value</th>\n",
       "      <th>prefix</th>\n",
       "      <th>period_start</th>\n",
       "      <th>period_end</th>\n",
       "      <th>point_in_time</th>\n",
       "      <th>unit</th>\n",
       "      <th>num_dim</th>\n",
       "      <th>axis_prefix</th>\n",
       "      <th>axis_tag</th>\n",
       "      <th>member_prefix</th>\n",
       "      <th>member_tag</th>\n",
       "    </tr>\n",
       "  </thead>\n",
       "  <tbody>\n",
       "    <tr>\n",
       "      <th>403</th>\n",
       "      <td>0001326380</td>\n",
       "      <td>000132638021000129</td>\n",
       "      <td>gme-20211030_htm</td>\n",
       "      <td>i12efa46789384fd39ac941da8b7b0f1a_D20200202-20...</td>\n",
       "      <td>DisposalGroupIncludingDiscontinuedOperationGen...</td>\n",
       "      <td>1200000</td>\n",
       "      <td>us-gaap</td>\n",
       "      <td>2020-02-02</td>\n",
       "      <td>2020-10-31</td>\n",
       "      <td>None</td>\n",
       "      <td>unit -- iso4217:USD</td>\n",
       "      <td>2</td>\n",
       "      <td>us-gaap</td>\n",
       "      <td>DisposalGroupClassificationAxis</td>\n",
       "      <td>us-gaap</td>\n",
       "      <td>DiscontinuedOperationsDisposedOfBySaleMember</td>\n",
       "    </tr>\n",
       "    <tr>\n",
       "      <th>404</th>\n",
       "      <td>0001326380</td>\n",
       "      <td>000132638021000129</td>\n",
       "      <td>gme-20211030_htm</td>\n",
       "      <td>i12efa46789384fd39ac941da8b7b0f1a_D20200202-20...</td>\n",
       "      <td>DisposalGroupIncludingDiscontinuedOperationGen...</td>\n",
       "      <td>1200000</td>\n",
       "      <td>us-gaap</td>\n",
       "      <td>2020-02-02</td>\n",
       "      <td>2020-10-31</td>\n",
       "      <td>None</td>\n",
       "      <td>unit -- iso4217:USD</td>\n",
       "      <td>2</td>\n",
       "      <td>us-gaap</td>\n",
       "      <td>IncomeStatementBalanceSheetAndAdditionalDisclo...</td>\n",
       "      <td>gme</td>\n",
       "      <td>SpringMobileMember</td>\n",
       "    </tr>\n",
       "    <tr>\n",
       "      <th>405</th>\n",
       "      <td>0001326380</td>\n",
       "      <td>000132638021000129</td>\n",
       "      <td>gme-20211030_htm</td>\n",
       "      <td>i12efa46789384fd39ac941da8b7b0f1a_D20200202-20...</td>\n",
       "      <td>DiscontinuedOperationTaxEffectOfDiscontinuedOp...</td>\n",
       "      <td>-300000</td>\n",
       "      <td>us-gaap</td>\n",
       "      <td>2020-02-02</td>\n",
       "      <td>2020-10-31</td>\n",
       "      <td>None</td>\n",
       "      <td>unit -- iso4217:USD</td>\n",
       "      <td>2</td>\n",
       "      <td>us-gaap</td>\n",
       "      <td>DisposalGroupClassificationAxis</td>\n",
       "      <td>us-gaap</td>\n",
       "      <td>DiscontinuedOperationsDisposedOfBySaleMember</td>\n",
       "    </tr>\n",
       "    <tr>\n",
       "      <th>406</th>\n",
       "      <td>0001326380</td>\n",
       "      <td>000132638021000129</td>\n",
       "      <td>gme-20211030_htm</td>\n",
       "      <td>i12efa46789384fd39ac941da8b7b0f1a_D20200202-20...</td>\n",
       "      <td>DiscontinuedOperationTaxEffectOfDiscontinuedOp...</td>\n",
       "      <td>-300000</td>\n",
       "      <td>us-gaap</td>\n",
       "      <td>2020-02-02</td>\n",
       "      <td>2020-10-31</td>\n",
       "      <td>None</td>\n",
       "      <td>unit -- iso4217:USD</td>\n",
       "      <td>2</td>\n",
       "      <td>us-gaap</td>\n",
       "      <td>IncomeStatementBalanceSheetAndAdditionalDisclo...</td>\n",
       "      <td>gme</td>\n",
       "      <td>SpringMobileMember</td>\n",
       "    </tr>\n",
       "  </tbody>\n",
       "</table>\n",
       "</div>"
      ],
      "text/plain": [
       "            cik    accession_number          xml_name  \\\n",
       "403  0001326380  000132638021000129  gme-20211030_htm   \n",
       "404  0001326380  000132638021000129  gme-20211030_htm   \n",
       "405  0001326380  000132638021000129  gme-20211030_htm   \n",
       "406  0001326380  000132638021000129  gme-20211030_htm   \n",
       "\n",
       "                                           context_ref  \\\n",
       "403  i12efa46789384fd39ac941da8b7b0f1a_D20200202-20...   \n",
       "404  i12efa46789384fd39ac941da8b7b0f1a_D20200202-20...   \n",
       "405  i12efa46789384fd39ac941da8b7b0f1a_D20200202-20...   \n",
       "406  i12efa46789384fd39ac941da8b7b0f1a_D20200202-20...   \n",
       "\n",
       "                                                   tag    value   prefix  \\\n",
       "403  DisposalGroupIncludingDiscontinuedOperationGen...  1200000  us-gaap   \n",
       "404  DisposalGroupIncludingDiscontinuedOperationGen...  1200000  us-gaap   \n",
       "405  DiscontinuedOperationTaxEffectOfDiscontinuedOp...  -300000  us-gaap   \n",
       "406  DiscontinuedOperationTaxEffectOfDiscontinuedOp...  -300000  us-gaap   \n",
       "\n",
       "    period_start  period_end point_in_time                 unit  num_dim  \\\n",
       "403   2020-02-02  2020-10-31          None  unit -- iso4217:USD        2   \n",
       "404   2020-02-02  2020-10-31          None  unit -- iso4217:USD        2   \n",
       "405   2020-02-02  2020-10-31          None  unit -- iso4217:USD        2   \n",
       "406   2020-02-02  2020-10-31          None  unit -- iso4217:USD        2   \n",
       "\n",
       "    axis_prefix                                           axis_tag  \\\n",
       "403     us-gaap                    DisposalGroupClassificationAxis   \n",
       "404     us-gaap  IncomeStatementBalanceSheetAndAdditionalDisclo...   \n",
       "405     us-gaap                    DisposalGroupClassificationAxis   \n",
       "406     us-gaap  IncomeStatementBalanceSheetAndAdditionalDisclo...   \n",
       "\n",
       "    member_prefix                                    member_tag  \n",
       "403       us-gaap  DiscontinuedOperationsDisposedOfBySaleMember  \n",
       "404           gme                            SpringMobileMember  \n",
       "405       us-gaap  DiscontinuedOperationsDisposedOfBySaleMember  \n",
       "406           gme                            SpringMobileMember  "
      ]
     },
     "execution_count": 10,
     "metadata": {},
     "output_type": "execute_result"
    }
   ],
   "source": [
    "## The facts and dimensions tables can be merged together using the context_ref and xml_name\n",
    "combo_df = pd.merge(\n",
    "    facts_df, \n",
    "    dimensions_df.drop(['cik', 'accession_number'], axis=1),\n",
    "    on=['context_ref', 'xml_name'], \n",
    "    how='left'\n",
    ")\n",
    "\n",
    "## Note, multiple facts might use the same context_ref, see below: \n",
    "combo_df[combo_df.context_ref == 'i12efa46789384fd39ac941da8b7b0f1a_D20200202-20201031']"
   ]
  },
  {
   "cell_type": "markdown",
   "metadata": {},
   "source": [
    "----\n",
    "----\n",
    "## Load from local XML file  \n",
    "\n",
    "Notes:\n",
    "\n",
    "- When loading a local XML file it is not nescessary to include the `email` parameter\n",
    "- The output is the same as with an SEC Edgar URL, however, metadata (such as the CIK identifier) are not included. "
   ]
  },
  {
   "cell_type": "code",
   "execution_count": 11,
   "metadata": {},
   "outputs": [],
   "source": [
    "xml_path = \"gme-20211030_htm.xml\"\n",
    "xbrl_dict = fxp.parse(\n",
    "    xml_path, \n",
    "    output=['json', 'facts', 'dimensions']\n",
    ")"
   ]
  },
  {
   "cell_type": "markdown",
   "metadata": {},
   "source": [
    "The outputs are the same as above, except for the identifier information, for example:"
   ]
  },
  {
   "cell_type": "code",
   "execution_count": 12,
   "metadata": {},
   "outputs": [
    {
     "name": "stdout",
     "output_type": "stream",
     "text": [
      "{'accession_number': None,\n",
      " 'cik': None,\n",
      " 'input_type': 'Local',\n",
      " 'raw_input': 'gme-20211030_htm.xml',\n",
      " 'xml_name': 'gme-20211030_htm'}\n"
     ]
    }
   ],
   "source": [
    "pp.pprint(xbrl_dict['info'])"
   ]
  },
  {
   "cell_type": "code",
   "execution_count": 13,
   "metadata": {},
   "outputs": [
    {
     "data": {
      "text/html": [
       "<div>\n",
       "<style scoped>\n",
       "    .dataframe tbody tr th:only-of-type {\n",
       "        vertical-align: middle;\n",
       "    }\n",
       "\n",
       "    .dataframe tbody tr th {\n",
       "        vertical-align: top;\n",
       "    }\n",
       "\n",
       "    .dataframe thead th {\n",
       "        text-align: right;\n",
       "    }\n",
       "</style>\n",
       "<table border=\"1\" class=\"dataframe\">\n",
       "  <thead>\n",
       "    <tr style=\"text-align: right;\">\n",
       "      <th></th>\n",
       "      <th>cik</th>\n",
       "      <th>accession_number</th>\n",
       "      <th>xml_name</th>\n",
       "      <th>context_ref</th>\n",
       "      <th>tag</th>\n",
       "      <th>value</th>\n",
       "      <th>prefix</th>\n",
       "      <th>period_start</th>\n",
       "      <th>period_end</th>\n",
       "      <th>point_in_time</th>\n",
       "      <th>unit</th>\n",
       "      <th>num_dim</th>\n",
       "    </tr>\n",
       "  </thead>\n",
       "  <tbody>\n",
       "    <tr>\n",
       "      <th>0</th>\n",
       "      <td>None</td>\n",
       "      <td>None</td>\n",
       "      <td>gme-20211030_htm</td>\n",
       "      <td>ibaf9b114da2b46d9a3c3baeec901b547_D20210131-20...</td>\n",
       "      <td>AmendmentFlag</td>\n",
       "      <td>false</td>\n",
       "      <td>dei</td>\n",
       "      <td>2021-01-31</td>\n",
       "      <td>2021-10-30</td>\n",
       "      <td>None</td>\n",
       "      <td>None</td>\n",
       "      <td>0</td>\n",
       "    </tr>\n",
       "    <tr>\n",
       "      <th>1</th>\n",
       "      <td>None</td>\n",
       "      <td>None</td>\n",
       "      <td>gme-20211030_htm</td>\n",
       "      <td>ibaf9b114da2b46d9a3c3baeec901b547_D20210131-20...</td>\n",
       "      <td>DocumentFiscalYearFocus</td>\n",
       "      <td>2021</td>\n",
       "      <td>dei</td>\n",
       "      <td>2021-01-31</td>\n",
       "      <td>2021-10-30</td>\n",
       "      <td>None</td>\n",
       "      <td>None</td>\n",
       "      <td>0</td>\n",
       "    </tr>\n",
       "  </tbody>\n",
       "</table>\n",
       "</div>"
      ],
      "text/plain": [
       "    cik accession_number          xml_name  \\\n",
       "0  None             None  gme-20211030_htm   \n",
       "1  None             None  gme-20211030_htm   \n",
       "\n",
       "                                         context_ref                      tag  \\\n",
       "0  ibaf9b114da2b46d9a3c3baeec901b547_D20210131-20...            AmendmentFlag   \n",
       "1  ibaf9b114da2b46d9a3c3baeec901b547_D20210131-20...  DocumentFiscalYearFocus   \n",
       "\n",
       "   value prefix period_start  period_end point_in_time  unit  num_dim  \n",
       "0  false    dei   2021-01-31  2021-10-30          None  None        0  \n",
       "1   2021    dei   2021-01-31  2021-10-30          None  None        0  "
      ]
     },
     "execution_count": 13,
     "metadata": {},
     "output_type": "execute_result"
    }
   ],
   "source": [
    "pd.DataFrame(xbrl_dict['facts']).head(2)"
   ]
  },
  {
   "cell_type": "markdown",
   "metadata": {},
   "source": [
    "----\n",
    "\n",
    "# Use as a command line application\n",
    "----\n",
    "\n",
    "The `fast-xbrl-parser` CLI tool takes either an SEC Edgar or a local path to the XML file as input.   \n",
    "The parser will automatically detect which method to use based on your input.\n",
    "\n",
    "**Note:** the url or path has to directly point at the XML file you are looking to parse.\n",
    "\n",
    "For example: \n",
    "\n",
    "- https://www.sec.gov/Archives/edgar/data/1326380/000132638021000129/gme-20211030_htm.xml will work\n",
    "- https://www.sec.gov/Archives/edgar/data/1326380/000132638021000129/0001326380-21-000129-index.htm does **not** work\n",
    "\n",
    "### Parameters:\n",
    "\n",
    "- `--input` URL or local path to XML file.    \n",
    "- `--json` Whether to parse and store a JSON file with the fact and dimension data.    \n",
    "- `--facts` Whether to parse and store a CSV file with the facts data. \n",
    "- `--dimensions` Whether to parse and store a CSV file with the dimensions data.       \n",
    "- `--save-dir` The location to store the files.   \n",
    "- `--email` The email address to use when using an SEC Edgar URL.   \n",
    "\n",
    "### Things to note:\n",
    "\n",
    "- The CSV files are comma delimited and use 2x double qoutes as a qualifier. They open natively in Excel.   \n",
    "- The file name of the JSON and CSV files is the same as the filename of the XML input file.   "
   ]
  },
  {
   "cell_type": "markdown",
   "metadata": {},
   "source": [
    "**Small workaround to get the binary to work on Binder:**  \n",
    "\n",
    "This is not not required on your own computer (probably)."
   ]
  },
  {
   "cell_type": "code",
   "execution_count": 14,
   "metadata": {},
   "outputs": [],
   "source": [
    "from pathlib import Path\n",
    "p = Path('./fast_xbrl_parser')\n",
    "p.chmod(0o777)"
   ]
  },
  {
   "cell_type": "markdown",
   "metadata": {},
   "source": [
    "----\n",
    "----\n",
    "## Load from SEC Edgar URL"
   ]
  },
  {
   "cell_type": "code",
   "execution_count": 15,
   "metadata": {},
   "outputs": [],
   "source": [
    "store_path = os.getcwd() + '/output'\n",
    "url_cmd = r\"\"\"\n",
    "\"./fast_xbrl_parser\"\n",
    "--input \"https://www.sec.gov/Archives/edgar/data/1589526/000158952621000140/blbd-20211002_htm.xml\" \n",
    "--json --facts --dimensions \n",
    "--save-dir \"{}\" --email \"demo@fast-xbrl-parser.com\"\n",
    "\"\"\".format(store_path).replace(\"\\n\", \" \").strip()"
   ]
  },
  {
   "cell_type": "code",
   "execution_count": 16,
   "metadata": {},
   "outputs": [
    {
     "name": "stdout",
     "output_type": "stream",
     "text": [
      "('InputDetails { raw_input: '\n",
      " '\"https://www.sec.gov/Archives/edgar/data/1589526/000158952621000140/blbd-20211002_htm.xml\", '\n",
      " 'xml_name: \"blbd-20211002_htm\", input_type: Remote, cik: Some(\"0001589526\"), '\n",
      " 'accession_number: Some(\"000158952621000140\") }\\n')\n"
     ]
    }
   ],
   "source": [
    "return_value = os.popen(url_cmd).read()\n",
    "pp.pprint(return_value)"
   ]
  },
  {
   "cell_type": "code",
   "execution_count": 17,
   "metadata": {},
   "outputs": [
    {
     "data": {
      "text/plain": [
       "['facts_blbd-20211002_htm.csv',\n",
       " 'blbd-20211002_htm.json',\n",
       " 'dimensions_blbd-20211002_htm.csv']"
      ]
     },
     "execution_count": 17,
     "metadata": {},
     "output_type": "execute_result"
    }
   ],
   "source": [
    "os.listdir(store_path)"
   ]
  },
  {
   "attachments": {
    "image.png": {
     "image/png": "[encoded data removed]"
    }
   },
   "cell_type": "markdown",
   "metadata": {},
   "source": [
    "The above command creates the following three files:\n",
    "\n",
    "![image.png](attachment:image.png)"
   ]
  },
  {
   "cell_type": "markdown",
   "metadata": {},
   "source": [
    "----\n",
    "----\n",
    "## Load from local XML file  \n",
    "\n",
    "Notes:\n",
    "\n",
    "- When loading a local XML file it is not nescessary to include the `email` parameter\n",
    "- The output is the same as with an SEC Edgar URL, however, metadata (such as the CIK identifier) are not included.   \n",
    "\n",
    "Output are the same as above."
   ]
  },
  {
   "cell_type": "code",
   "execution_count": 18,
   "metadata": {},
   "outputs": [],
   "source": [
    "store_path = os.getcwd() + '/output'\n",
    "xml_cmd = r\"\"\"\n",
    "./fast_xbrl_parser \n",
    "--input \"gme-20211030_htm.xml\"\n",
    "--json --facts --dimensions \n",
    "--save-dir \"{}\"\n",
    "\"\"\".format(store_path).replace(\"\\n\", \" \").strip()"
   ]
  },
  {
   "cell_type": "code",
   "execution_count": 19,
   "metadata": {},
   "outputs": [],
   "source": [
    "return_value = os.popen(xml_cmd).read()"
   ]
  },
  {
   "cell_type": "code",
   "execution_count": 20,
   "metadata": {},
   "outputs": [
    {
     "name": "stdout",
     "output_type": "stream",
     "text": [
      "('InputDetails { raw_input: \"gme-20211030_htm.xml\", xml_name: '\n",
      " '\"gme-20211030_htm\", input_type: Local, cik: None, accession_number: None }\\n')\n"
     ]
    }
   ],
   "source": [
    "pp.pprint(return_value)"
   ]
  }
 ],
 "metadata": {
  "kernelspec": {
   "display_name": "Python 3 (ipykernel)",
   "language": "python",
   "name": "python3"
  },
  "language_info": {
   "codemirror_mode": {
    "name": "ipython",
    "version": 3
   },
   "file_extension": ".py",
   "mimetype": "text/x-python",
   "name": "python",
   "nbconvert_exporter": "python",
   "pygments_lexer": "ipython3",
   "version": "3.9.7"
  }
 },
 "nbformat": 4,
 "nbformat_minor": 4
}
