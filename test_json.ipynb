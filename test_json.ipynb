{
 "cells": [
  {
   "cell_type": "code",
   "execution_count": null,
   "metadata": {},
   "outputs": [],
   "source": [
    "import os, sys, re, json\n",
    "import pandas as pd\n",
    "import numpy as np"
   ]
  },
  {
   "cell_type": "code",
   "execution_count": null,
   "metadata": {},
   "outputs": [],
   "source": [
    "with open('facts.json', 'r', encoding='utf-8') as f:\n",
    "    json_file = json.load(f)\n",
    "    ##json_file = json.load(f.encode('utf-8'))"
   ]
  },
  {
   "cell_type": "code",
   "execution_count": null,
   "metadata": {},
   "outputs": [],
   "source": [
    "dataframe_list = []\n",
    "for item in json_file:\n",
    "    ret_dict = {}\n",
    "    for key in ['id', 'prefix', 'name', 'value', 'decimals']:\n",
    "        ret_dict[key] = item[key]\n",
    "        \n",
    "    ret_dict['num_dim'] = len(item['dimensions'])\n",
    "    for unit_dict in item['units']:\n",
    "        ret_dict[unit_dict['unit_type']] = unit_dict['unit_value']\n",
    "    \n",
    "    for period_dict in item['periods']:\n",
    "        ret_dict[period_dict['period_type']] = period_dict['period_value']\n",
    "\n",
    "    dataframe_list.append(ret_dict)"
   ]
  },
  {
   "cell_type": "code",
   "execution_count": null,
   "metadata": {},
   "outputs": [],
   "source": [
    "xbrl_df = pd.DataFrame(dataframe_list)"
   ]
  },
  {
   "cell_type": "code",
   "execution_count": null,
   "metadata": {},
   "outputs": [],
   "source": [
    "xbrl_df"
   ]
  }
 ],
 "metadata": {
  "kernelspec": {
   "display_name": "Python 3",
   "language": "python",
   "name": "python3"
  },
  "language_info": {
   "codemirror_mode": {
    "name": "ipython",
    "version": 3
   },
   "file_extension": ".py",
   "mimetype": "text/x-python",
   "name": "python",
   "nbconvert_exporter": "python",
   "pygments_lexer": "ipython3",
   "version": "3.9.7"
  }
 },
 "nbformat": 4,
 "nbformat_minor": 2
}
