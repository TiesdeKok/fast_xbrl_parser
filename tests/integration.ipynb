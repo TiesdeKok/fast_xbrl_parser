{
 "cells": [
  {
   "cell_type": "markdown",
   "metadata": {},
   "source": [
    "## Imports"
   ]
  },
  {
   "cell_type": "code",
   "execution_count": 1,
   "metadata": {},
   "outputs": [],
   "source": [
    "import os, json\n",
    "import pandas as pd\n",
    "import numpy as np\n",
    "\n",
    "import fast_xbrl_parser as fxp"
   ]
  },
  {
   "cell_type": "markdown",
   "metadata": {},
   "source": [
    "## Python package"
   ]
  },
  {
   "cell_type": "markdown",
   "metadata": {},
   "source": [
    "### From URL"
   ]
  },
  {
   "cell_type": "code",
   "execution_count": 2,
   "metadata": {},
   "outputs": [
    {
     "ename": "AttributeError",
     "evalue": "module 'fast_xbrl_parser' has no attribute 'parse'",
     "output_type": "error",
     "traceback": [
      "\u001b[1;31m---------------------------------------------------------------------------\u001b[0m",
      "\u001b[1;31mAttributeError\u001b[0m                            Traceback (most recent call last)",
      "\u001b[1;32m<ipython-input-2-d6c6230003a9>\u001b[0m in \u001b[0;36m<module>\u001b[1;34m\u001b[0m\n\u001b[0;32m      2\u001b[0m \u001b[1;33m\u001b[0m\u001b[0m\n\u001b[0;32m      3\u001b[0m \u001b[1;31m## Parse from URL and return all data types\u001b[0m\u001b[1;33m\u001b[0m\u001b[1;33m\u001b[0m\u001b[1;33m\u001b[0m\u001b[0m\n\u001b[1;32m----> 4\u001b[1;33m xbrl_dict = fxp.parse(\n\u001b[0m\u001b[0;32m      5\u001b[0m     \u001b[0medgar_url\u001b[0m\u001b[1;33m,\u001b[0m\u001b[1;33m\u001b[0m\u001b[1;33m\u001b[0m\u001b[0m\n\u001b[0;32m      6\u001b[0m     \u001b[0minclude\u001b[0m\u001b[1;33m=\u001b[0m\u001b[1;33m[\u001b[0m\u001b[1;34m'json'\u001b[0m\u001b[1;33m,\u001b[0m \u001b[1;34m'facts'\u001b[0m\u001b[1;33m,\u001b[0m \u001b[1;34m'dimensions'\u001b[0m\u001b[1;33m]\u001b[0m\u001b[1;33m,\u001b[0m\u001b[1;33m\u001b[0m\u001b[1;33m\u001b[0m\u001b[0m\n",
      "\u001b[1;31mAttributeError\u001b[0m: module 'fast_xbrl_parser' has no attribute 'parse'"
     ]
    }
   ],
   "source": [
    "edgar_url = \"https://www.sec.gov/Archives/edgar/data/1326380/000132638021000129/gme-20211030_htm.xml\"\n",
    "\n",
    "## Parse from URL and return all data types\n",
    "xbrl_dict = fxp.parse(\n",
    "    edgar_url, \n",
    "    include=['json', 'facts', 'dimensions'], \n",
    "    email = \"test@test.com\") \n",
    "\n",
    "assert isinstance(xbrl_dict['json'], dict)\n",
    "assert isinstance(xbrl_dict['facts'], pd.DataFrame)\n",
    "assert isinstance(xbrl_dict['dimensions'], pd.DataFrame)"
   ]
  },
  {
   "cell_type": "markdown",
   "metadata": {},
   "source": [
    "### From XML file"
   ]
  },
  {
   "cell_type": "code",
   "execution_count": 3,
   "metadata": {},
   "outputs": [
    {
     "ename": "AttributeError",
     "evalue": "module 'fast_xbrl_parser' has no attribute 'parse'",
     "output_type": "error",
     "traceback": [
      "\u001b[1;31m---------------------------------------------------------------------------\u001b[0m",
      "\u001b[1;31mAttributeError\u001b[0m                            Traceback (most recent call last)",
      "\u001b[1;32m<ipython-input-3-8a1f7d75d84c>\u001b[0m in \u001b[0;36m<module>\u001b[1;34m\u001b[0m\n\u001b[0;32m      1\u001b[0m \u001b[0mxml_path\u001b[0m \u001b[1;33m=\u001b[0m \u001b[1;34mr\"c:/gme-20211030_htm.xml\"\u001b[0m\u001b[1;33m\u001b[0m\u001b[1;33m\u001b[0m\u001b[0m\n\u001b[1;32m----> 2\u001b[1;33m xbrl_dict = fxp.parse(\n\u001b[0m\u001b[0;32m      3\u001b[0m     \u001b[0mxml_path\u001b[0m\u001b[1;33m,\u001b[0m\u001b[1;33m\u001b[0m\u001b[1;33m\u001b[0m\u001b[0m\n\u001b[0;32m      4\u001b[0m     include=['json', 'facts', 'dimensions'])\n\u001b[0;32m      5\u001b[0m \u001b[1;33m\u001b[0m\u001b[0m\n",
      "\u001b[1;31mAttributeError\u001b[0m: module 'fast_xbrl_parser' has no attribute 'parse'"
     ]
    }
   ],
   "source": [
    "xml_path = r\"c:/gme-20211030_htm.xml\"\n",
    "xbrl_dict = fxp.parse(\n",
    "    xml_path, \n",
    "    include=['json', 'facts', 'dimensions'])\n",
    "\n",
    "assert isinstance(xbrl_dict['json'], dict)\n",
    "assert isinstance(xbrl_dict['facts'], pd.DataFrame)\n",
    "assert isinstance(xbrl_dict['dimensions'], pd.DataFrame)"
   ]
  },
  {
   "cell_type": "markdown",
   "metadata": {},
   "source": [
    "## Command line application"
   ]
  },
  {
   "cell_type": "markdown",
   "metadata": {},
   "source": [
    "### From URL"
   ]
  },
  {
   "cell_type": "code",
   "execution_count": 4,
   "metadata": {},
   "outputs": [],
   "source": [
    "url_cmd = \"\"\"\n",
    "fast_xbrl_parser.exe \n",
    "--input \"https://www.sec.gov/Archives/edgar/data/1326380/000132638021000129/gme-20211030_htm.xml\" \n",
    "--json --facts --dimensions \n",
    "--save_dir \"c:/\" --email \"email@email.com\"\n",
    "\"\"\".replace(\"\\n\", \"\")"
   ]
  },
  {
   "cell_type": "code",
   "execution_count": null,
   "metadata": {},
   "outputs": [],
   "source": [
    "return_value = os.popen(url_cmd).read()"
   ]
  },
  {
   "cell_type": "code",
   "execution_count": 9,
   "metadata": {},
   "outputs": [
    {
     "ename": "NameError",
     "evalue": "name 'return_value' is not defined",
     "output_type": "error",
     "traceback": [
      "\u001b[1;31m---------------------------------------------------------------------------\u001b[0m",
      "\u001b[1;31mNameError\u001b[0m                                 Traceback (most recent call last)",
      "\u001b[1;32m<ipython-input-9-8148eb9ea180>\u001b[0m in \u001b[0;36m<module>\u001b[1;34m\u001b[0m\n\u001b[1;32m----> 1\u001b[1;33m \u001b[1;32massert\u001b[0m \u001b[0mreturn_value\u001b[0m \u001b[1;31m## TBD\u001b[0m\u001b[1;33m\u001b[0m\u001b[1;33m\u001b[0m\u001b[0m\n\u001b[0m",
      "\u001b[1;31mNameError\u001b[0m: name 'return_value' is not defined"
     ]
    }
   ],
   "source": [
    "assert return_value ## TBD"
   ]
  },
  {
   "cell_type": "markdown",
   "metadata": {},
   "source": [
    "### From XML file"
   ]
  },
  {
   "cell_type": "code",
   "execution_count": 4,
   "metadata": {},
   "outputs": [],
   "source": [
    "xml_cmd = \"\"\"\n",
    "fast_xbrl_parser.exe \n",
    "--input F:\\rust_projects\\fast_xbrl_parser\\tests\\gme-20211030_htm.xml\"\n",
    "--json --facts --dimensions \n",
    "--save_dir \"c:/\" --email \"email@email.com\"\n",
    "\"\"\".replace(\"\\n\", \"\")"
   ]
  },
  {
   "cell_type": "code",
   "execution_count": null,
   "metadata": {},
   "outputs": [],
   "source": [
    "return_value = os.popen(xml_cmd).read()"
   ]
  },
  {
   "cell_type": "code",
   "execution_count": null,
   "metadata": {},
   "outputs": [],
   "source": [
    "assert return_value ## TBD"
   ]
  },
  {
   "cell_type": "code",
   "execution_count": null,
   "metadata": {},
   "outputs": [],
   "source": []
  }
 ],
 "metadata": {
  "kernelspec": {
   "display_name": "Python 3",
   "language": "python",
   "name": "python3"
  },
  "language_info": {
   "codemirror_mode": {
    "name": "ipython",
    "version": 3
   },
   "file_extension": ".py",
   "mimetype": "text/x-python",
   "name": "python",
   "nbconvert_exporter": "python",
   "pygments_lexer": "ipython3",
   "version": "3.7.4"
  }
 },
 "nbformat": 4,
 "nbformat_minor": 2
}
