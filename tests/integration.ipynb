{
 "cells": [
  {
   "cell_type": "markdown",
   "metadata": {},
   "source": [
    "## Imports"
   ]
  },
  {
   "cell_type": "code",
   "execution_count": 1,
   "metadata": {},
   "outputs": [],
   "source": [
    "import os, json\n",
    "import pandas as pd\n",
    "import numpy as np\n",
    "\n",
    "import fast_xbrl_parser as fxp"
   ]
  },
  {
   "cell_type": "markdown",
   "metadata": {},
   "source": [
    "## Python package"
   ]
  },
  {
   "cell_type": "markdown",
   "metadata": {},
   "source": [
    "### From URL"
   ]
  },
  {
   "cell_type": "code",
   "execution_count": 2,
   "metadata": {},
   "outputs": [],
   "source": [
    "edgar_url = \"https://www.sec.gov/Archives/edgar/data/1326380/000132638021000129/gme-20211030_htm.xml\"\n",
    "\n",
    "## Parse from URL and return all data types\n",
    "xbrl_dict = fxp.parse(\n",
    "    edgar_url, \n",
    "    output=['json', 'facts', 'dimensions'], \n",
    "    email = \"test@test.com\"\n",
    ") "
   ]
  },
  {
   "cell_type": "code",
   "execution_count": 3,
   "metadata": {},
   "outputs": [],
   "source": [
    "assert isinstance(xbrl_dict['info'], dict)\n",
    "assert isinstance(xbrl_dict['json'], list)\n",
    "assert isinstance(xbrl_dict['facts'], list)\n",
    "assert isinstance(xbrl_dict['dimensions'], list)\n",
    "\n",
    "xbrl_fact_df = pd.DataFrame(xbrl_dict['facts'])\n",
    "xbrl_dim_df = pd.DataFrame(xbrl_dict['dimensions'])\n",
    "\n",
    "assert isinstance(xbrl_fact_df, pd.DataFrame)\n",
    "assert isinstance(xbrl_dim_df, pd.DataFrame)"
   ]
  },
  {
   "cell_type": "code",
   "execution_count": 4,
   "metadata": {},
   "outputs": [
    {
     "data": {
      "text/html": [
       "<div>\n",
       "<style scoped>\n",
       "    .dataframe tbody tr th:only-of-type {\n",
       "        vertical-align: middle;\n",
       "    }\n",
       "\n",
       "    .dataframe tbody tr th {\n",
       "        vertical-align: top;\n",
       "    }\n",
       "\n",
       "    .dataframe thead th {\n",
       "        text-align: right;\n",
       "    }\n",
       "</style>\n",
       "<table border=\"1\" class=\"dataframe\">\n",
       "  <thead>\n",
       "    <tr style=\"text-align: right;\">\n",
       "      <th></th>\n",
       "      <th>cik</th>\n",
       "      <th>accession_number</th>\n",
       "      <th>xml_name</th>\n",
       "      <th>fact_id</th>\n",
       "      <th>left_tag</th>\n",
       "      <th>left_prefix</th>\n",
       "      <th>right_tag</th>\n",
       "      <th>right_prefix</th>\n",
       "    </tr>\n",
       "  </thead>\n",
       "  <tbody>\n",
       "    <tr>\n",
       "      <th>0</th>\n",
       "      <td>0001326380</td>\n",
       "      <td>000132638021000129</td>\n",
       "      <td>gme-20211030_htm</td>\n",
       "      <td>id3VybDovL2RvY3MudjEvZG9jOjUzYmQ2ZjI2MzlhMDQ4N...</td>\n",
       "      <td></td>\n",
       "      <td></td>\n",
       "      <td></td>\n",
       "      <td></td>\n",
       "    </tr>\n",
       "    <tr>\n",
       "      <th>1</th>\n",
       "      <td>0001326380</td>\n",
       "      <td>000132638021000129</td>\n",
       "      <td>gme-20211030_htm</td>\n",
       "      <td>id3VybDovL2RvY3MudjEvZG9jOjUzYmQ2ZjI2MzlhMDQ4N...</td>\n",
       "      <td></td>\n",
       "      <td></td>\n",
       "      <td></td>\n",
       "      <td></td>\n",
       "    </tr>\n",
       "    <tr>\n",
       "      <th>2</th>\n",
       "      <td>0001326380</td>\n",
       "      <td>000132638021000129</td>\n",
       "      <td>gme-20211030_htm</td>\n",
       "      <td>id3VybDovL2RvY3MudjEvZG9jOjUzYmQ2ZjI2MzlhMDQ4N...</td>\n",
       "      <td></td>\n",
       "      <td></td>\n",
       "      <td></td>\n",
       "      <td></td>\n",
       "    </tr>\n",
       "    <tr>\n",
       "      <th>3</th>\n",
       "      <td>0001326380</td>\n",
       "      <td>000132638021000129</td>\n",
       "      <td>gme-20211030_htm</td>\n",
       "      <td>id3VybDovL2RvY3MudjEvZG9jOjUzYmQ2ZjI2MzlhMDQ4N...</td>\n",
       "      <td></td>\n",
       "      <td></td>\n",
       "      <td></td>\n",
       "      <td></td>\n",
       "    </tr>\n",
       "    <tr>\n",
       "      <th>4</th>\n",
       "      <td>0001326380</td>\n",
       "      <td>000132638021000129</td>\n",
       "      <td>gme-20211030_htm</td>\n",
       "      <td>id3VybDovL2RvY3MudjEvZG9jOjUzYmQ2ZjI2MzlhMDQ4N...</td>\n",
       "      <td></td>\n",
       "      <td></td>\n",
       "      <td></td>\n",
       "      <td></td>\n",
       "    </tr>\n",
       "    <tr>\n",
       "      <th>...</th>\n",
       "      <td>...</td>\n",
       "      <td>...</td>\n",
       "      <td>...</td>\n",
       "      <td>...</td>\n",
       "      <td>...</td>\n",
       "      <td>...</td>\n",
       "      <td>...</td>\n",
       "      <td>...</td>\n",
       "    </tr>\n",
       "    <tr>\n",
       "      <th>651</th>\n",
       "      <td>0001326380</td>\n",
       "      <td>000132638021000129</td>\n",
       "      <td>gme-20211030_htm</td>\n",
       "      <td>id3VybDovL2RvY3MudjEvZG9jOjUzYmQ2ZjI2MzlhMDQ4N...</td>\n",
       "      <td></td>\n",
       "      <td></td>\n",
       "      <td></td>\n",
       "      <td></td>\n",
       "    </tr>\n",
       "    <tr>\n",
       "      <th>652</th>\n",
       "      <td>0001326380</td>\n",
       "      <td>000132638021000129</td>\n",
       "      <td>gme-20211030_htm</td>\n",
       "      <td>id3VybDovL2RvY3MudjEvZG9jOjUzYmQ2ZjI2MzlhMDQ4N...</td>\n",
       "      <td></td>\n",
       "      <td></td>\n",
       "      <td></td>\n",
       "      <td></td>\n",
       "    </tr>\n",
       "    <tr>\n",
       "      <th>653</th>\n",
       "      <td>0001326380</td>\n",
       "      <td>000132638021000129</td>\n",
       "      <td>gme-20211030_htm</td>\n",
       "      <td>id3VybDovL2RvY3MudjEvZG9jOjUzYmQ2ZjI2MzlhMDQ4N...</td>\n",
       "      <td></td>\n",
       "      <td></td>\n",
       "      <td></td>\n",
       "      <td></td>\n",
       "    </tr>\n",
       "    <tr>\n",
       "      <th>654</th>\n",
       "      <td>0001326380</td>\n",
       "      <td>000132638021000129</td>\n",
       "      <td>gme-20211030_htm</td>\n",
       "      <td>id3VybDovL2RvY3MudjEvZG9jOjUzYmQ2ZjI2MzlhMDQ4N...</td>\n",
       "      <td></td>\n",
       "      <td></td>\n",
       "      <td></td>\n",
       "      <td></td>\n",
       "    </tr>\n",
       "    <tr>\n",
       "      <th>655</th>\n",
       "      <td>0001326380</td>\n",
       "      <td>000132638021000129</td>\n",
       "      <td>gme-20211030_htm</td>\n",
       "      <td>id3VybDovL2RvY3MudjEvZG9jOjUzYmQ2ZjI2MzlhMDQ4N...</td>\n",
       "      <td></td>\n",
       "      <td></td>\n",
       "      <td></td>\n",
       "      <td></td>\n",
       "    </tr>\n",
       "  </tbody>\n",
       "</table>\n",
       "<p>656 rows × 8 columns</p>\n",
       "</div>"
      ],
      "text/plain": [
       "            cik    accession_number          xml_name  \\\n",
       "0    0001326380  000132638021000129  gme-20211030_htm   \n",
       "1    0001326380  000132638021000129  gme-20211030_htm   \n",
       "2    0001326380  000132638021000129  gme-20211030_htm   \n",
       "3    0001326380  000132638021000129  gme-20211030_htm   \n",
       "4    0001326380  000132638021000129  gme-20211030_htm   \n",
       "..          ...                 ...               ...   \n",
       "651  0001326380  000132638021000129  gme-20211030_htm   \n",
       "652  0001326380  000132638021000129  gme-20211030_htm   \n",
       "653  0001326380  000132638021000129  gme-20211030_htm   \n",
       "654  0001326380  000132638021000129  gme-20211030_htm   \n",
       "655  0001326380  000132638021000129  gme-20211030_htm   \n",
       "\n",
       "                                               fact_id left_tag left_prefix  \\\n",
       "0    id3VybDovL2RvY3MudjEvZG9jOjUzYmQ2ZjI2MzlhMDQ4N...                        \n",
       "1    id3VybDovL2RvY3MudjEvZG9jOjUzYmQ2ZjI2MzlhMDQ4N...                        \n",
       "2    id3VybDovL2RvY3MudjEvZG9jOjUzYmQ2ZjI2MzlhMDQ4N...                        \n",
       "3    id3VybDovL2RvY3MudjEvZG9jOjUzYmQ2ZjI2MzlhMDQ4N...                        \n",
       "4    id3VybDovL2RvY3MudjEvZG9jOjUzYmQ2ZjI2MzlhMDQ4N...                        \n",
       "..                                                 ...      ...         ...   \n",
       "651  id3VybDovL2RvY3MudjEvZG9jOjUzYmQ2ZjI2MzlhMDQ4N...                        \n",
       "652  id3VybDovL2RvY3MudjEvZG9jOjUzYmQ2ZjI2MzlhMDQ4N...                        \n",
       "653  id3VybDovL2RvY3MudjEvZG9jOjUzYmQ2ZjI2MzlhMDQ4N...                        \n",
       "654  id3VybDovL2RvY3MudjEvZG9jOjUzYmQ2ZjI2MzlhMDQ4N...                        \n",
       "655  id3VybDovL2RvY3MudjEvZG9jOjUzYmQ2ZjI2MzlhMDQ4N...                        \n",
       "\n",
       "    right_tag right_prefix  \n",
       "0                           \n",
       "1                           \n",
       "2                           \n",
       "3                           \n",
       "4                           \n",
       "..        ...          ...  \n",
       "651                         \n",
       "652                         \n",
       "653                         \n",
       "654                         \n",
       "655                         \n",
       "\n",
       "[656 rows x 8 columns]"
      ]
     },
     "execution_count": 4,
     "metadata": {},
     "output_type": "execute_result"
    }
   ],
   "source": [
    "xbrl_dim_df"
   ]
  },
  {
   "cell_type": "code",
   "execution_count": 5,
   "metadata": {},
   "outputs": [
    {
     "data": {
      "text/html": [
       "<div>\n",
       "<style scoped>\n",
       "    .dataframe tbody tr th:only-of-type {\n",
       "        vertical-align: middle;\n",
       "    }\n",
       "\n",
       "    .dataframe tbody tr th {\n",
       "        vertical-align: top;\n",
       "    }\n",
       "\n",
       "    .dataframe thead th {\n",
       "        text-align: right;\n",
       "    }\n",
       "</style>\n",
       "<table border=\"1\" class=\"dataframe\">\n",
       "  <thead>\n",
       "    <tr style=\"text-align: right;\">\n",
       "      <th></th>\n",
       "      <th>cik</th>\n",
       "      <th>accession_number</th>\n",
       "      <th>xml_name</th>\n",
       "      <th>fact_id</th>\n",
       "      <th>tag</th>\n",
       "      <th>value</th>\n",
       "      <th>prefix</th>\n",
       "      <th>prefix_type</th>\n",
       "      <th>period_start</th>\n",
       "      <th>period_end</th>\n",
       "      <th>point_in_time</th>\n",
       "      <th>unit</th>\n",
       "      <th>num_dim</th>\n",
       "    </tr>\n",
       "  </thead>\n",
       "  <tbody>\n",
       "    <tr>\n",
       "      <th>0</th>\n",
       "      <td>0001326380</td>\n",
       "      <td>000132638021000129</td>\n",
       "      <td>gme-20211030_htm</td>\n",
       "      <td>id3VybDovL2RvY3MudjEvZG9jOjUzYmQ2ZjI2MzlhMDQ4N...</td>\n",
       "      <td>AmendmentFlag</td>\n",
       "      <td>false</td>\n",
       "      <td>dei</td>\n",
       "      <td>standard</td>\n",
       "      <td>2021-01-31</td>\n",
       "      <td>2021-10-30</td>\n",
       "      <td>None</td>\n",
       "      <td>None</td>\n",
       "      <td>0</td>\n",
       "    </tr>\n",
       "    <tr>\n",
       "      <th>1</th>\n",
       "      <td>0001326380</td>\n",
       "      <td>000132638021000129</td>\n",
       "      <td>gme-20211030_htm</td>\n",
       "      <td>id3VybDovL2RvY3MudjEvZG9jOjUzYmQ2ZjI2MzlhMDQ4N...</td>\n",
       "      <td>DocumentFiscalYearFocus</td>\n",
       "      <td>2021</td>\n",
       "      <td>dei</td>\n",
       "      <td>standard</td>\n",
       "      <td>2021-01-31</td>\n",
       "      <td>2021-10-30</td>\n",
       "      <td>None</td>\n",
       "      <td>None</td>\n",
       "      <td>0</td>\n",
       "    </tr>\n",
       "    <tr>\n",
       "      <th>2</th>\n",
       "      <td>0001326380</td>\n",
       "      <td>000132638021000129</td>\n",
       "      <td>gme-20211030_htm</td>\n",
       "      <td>id3VybDovL2RvY3MudjEvZG9jOjUzYmQ2ZjI2MzlhMDQ4N...</td>\n",
       "      <td>DocumentFiscalPeriodFocus</td>\n",
       "      <td>Q3</td>\n",
       "      <td>dei</td>\n",
       "      <td>standard</td>\n",
       "      <td>2021-01-31</td>\n",
       "      <td>2021-10-30</td>\n",
       "      <td>None</td>\n",
       "      <td>None</td>\n",
       "      <td>0</td>\n",
       "    </tr>\n",
       "    <tr>\n",
       "      <th>3</th>\n",
       "      <td>0001326380</td>\n",
       "      <td>000132638021000129</td>\n",
       "      <td>gme-20211030_htm</td>\n",
       "      <td>id3VybDovL2RvY3MudjEvZG9jOjUzYmQ2ZjI2MzlhMDQ4N...</td>\n",
       "      <td>EntityCentralIndexKey</td>\n",
       "      <td>0001326380</td>\n",
       "      <td>dei</td>\n",
       "      <td>standard</td>\n",
       "      <td>2021-01-31</td>\n",
       "      <td>2021-10-30</td>\n",
       "      <td>None</td>\n",
       "      <td>None</td>\n",
       "      <td>0</td>\n",
       "    </tr>\n",
       "    <tr>\n",
       "      <th>4</th>\n",
       "      <td>0001326380</td>\n",
       "      <td>000132638021000129</td>\n",
       "      <td>gme-20211030_htm</td>\n",
       "      <td>id3VybDovL2RvY3MudjEvZG9jOjUzYmQ2ZjI2MzlhMDQ4N...</td>\n",
       "      <td>CurrentFiscalYearEndDate</td>\n",
       "      <td>--01-29</td>\n",
       "      <td>dei</td>\n",
       "      <td>standard</td>\n",
       "      <td>2021-01-31</td>\n",
       "      <td>2021-10-30</td>\n",
       "      <td>None</td>\n",
       "      <td>None</td>\n",
       "      <td>0</td>\n",
       "    </tr>\n",
       "  </tbody>\n",
       "</table>\n",
       "</div>"
      ],
      "text/plain": [
       "          cik    accession_number          xml_name  \\\n",
       "0  0001326380  000132638021000129  gme-20211030_htm   \n",
       "1  0001326380  000132638021000129  gme-20211030_htm   \n",
       "2  0001326380  000132638021000129  gme-20211030_htm   \n",
       "3  0001326380  000132638021000129  gme-20211030_htm   \n",
       "4  0001326380  000132638021000129  gme-20211030_htm   \n",
       "\n",
       "                                             fact_id  \\\n",
       "0  id3VybDovL2RvY3MudjEvZG9jOjUzYmQ2ZjI2MzlhMDQ4N...   \n",
       "1  id3VybDovL2RvY3MudjEvZG9jOjUzYmQ2ZjI2MzlhMDQ4N...   \n",
       "2  id3VybDovL2RvY3MudjEvZG9jOjUzYmQ2ZjI2MzlhMDQ4N...   \n",
       "3  id3VybDovL2RvY3MudjEvZG9jOjUzYmQ2ZjI2MzlhMDQ4N...   \n",
       "4  id3VybDovL2RvY3MudjEvZG9jOjUzYmQ2ZjI2MzlhMDQ4N...   \n",
       "\n",
       "                         tag       value prefix prefix_type period_start  \\\n",
       "0              AmendmentFlag       false    dei    standard   2021-01-31   \n",
       "1    DocumentFiscalYearFocus        2021    dei    standard   2021-01-31   \n",
       "2  DocumentFiscalPeriodFocus          Q3    dei    standard   2021-01-31   \n",
       "3      EntityCentralIndexKey  0001326380    dei    standard   2021-01-31   \n",
       "4   CurrentFiscalYearEndDate     --01-29    dei    standard   2021-01-31   \n",
       "\n",
       "   period_end point_in_time  unit  num_dim  \n",
       "0  2021-10-30          None  None        0  \n",
       "1  2021-10-30          None  None        0  \n",
       "2  2021-10-30          None  None        0  \n",
       "3  2021-10-30          None  None        0  \n",
       "4  2021-10-30          None  None        0  "
      ]
     },
     "execution_count": 5,
     "metadata": {},
     "output_type": "execute_result"
    }
   ],
   "source": [
    "xbrl_fact_df.head()"
   ]
  },
  {
   "cell_type": "markdown",
   "metadata": {},
   "source": [
    "### From XML file"
   ]
  },
  {
   "cell_type": "code",
   "execution_count": 6,
   "metadata": {},
   "outputs": [],
   "source": [
    "xml_path = r\"F:\\rust_projects\\fast_xbrl_parser\\tests\\gme-20211030_htm.xml\"\n",
    "xbrl_dict = fxp.parse(\n",
    "    xml_path, \n",
    "    output=['json', 'facts', 'dimensions']\n",
    ")"
   ]
  },
  {
   "cell_type": "code",
   "execution_count": 7,
   "metadata": {},
   "outputs": [],
   "source": [
    "assert isinstance(xbrl_dict['info'], dict)\n",
    "assert isinstance(xbrl_dict['json'], list)\n",
    "assert isinstance(xbrl_dict['facts'], list)\n",
    "assert isinstance(xbrl_dict['dimensions'], list)\n",
    "\n",
    "xbrl_fact_df = pd.DataFrame(xbrl_dict['facts'])\n",
    "xbrl_dim_df = pd.DataFrame(xbrl_dict['dimensions'])\n",
    "\n",
    "assert isinstance(xbrl_fact_df, pd.DataFrame)\n",
    "assert isinstance(xbrl_dim_df, pd.DataFrame)"
   ]
  },
  {
   "cell_type": "markdown",
   "metadata": {},
   "source": [
    "## Command line application"
   ]
  },
  {
   "cell_type": "code",
   "execution_count": 12,
   "metadata": {},
   "outputs": [],
   "source": [
    "url_cmd = r\"\"\"\n",
    "\"F:\\rust_projects\\fast_xbrl_parser\\target\\release\\fast_xbrl_parser.exe\"\n",
    "--input \"https://www.sec.gov/Archives/edgar/data/1589526/000158952621000140/blbd-20211002_htm.xml\" \n",
    "--json --facts --dimensions \n",
    "--save-dir \"D:\\xbrl_storage\" --email \"email@email.com\"\n",
    "\"\"\".replace(\"\\n\", \" \").strip()"
   ]
  },
  {
   "cell_type": "code",
   "execution_count": 13,
   "metadata": {},
   "outputs": [
    {
     "name": "stdout",
     "output_type": "stream",
     "text": [
      "\"F:\\rust_projects\\fast_xbrl_parser\\target\\release\\fast_xbrl_parser.exe\" --input \"https://www.sec.gov/Archives/edgar/data/1589526/000158952621000140/blbd-20211002_htm.xml\"  --json --facts --dimensions  --save-dir \"D:\\xbrl_storage\" --email \"email@email.com\"\n"
     ]
    }
   ],
   "source": [
    "print(url_cmd)"
   ]
  },
  {
   "cell_type": "code",
   "execution_count": 14,
   "metadata": {},
   "outputs": [],
   "source": [
    "return_value = os.popen(url_cmd).read()"
   ]
  },
  {
   "cell_type": "code",
   "execution_count": 15,
   "metadata": {},
   "outputs": [
    {
     "data": {
      "text/plain": [
       "'InputDetails { raw_input: \"https://www.sec.gov/Archives/edgar/data/1589526/000158952621000140/blbd-20211002_htm.xml\", xml_name: \"blbd-20211002_htm\", input_type: Remote, cik: Some(\"0001589526\"), accession_number: Some(\"000158952621000140\") }\\n'"
      ]
     },
     "execution_count": 15,
     "metadata": {},
     "output_type": "execute_result"
    }
   ],
   "source": [
    "return_value"
   ]
  },
  {
   "cell_type": "code",
   "execution_count": 9,
   "metadata": {},
   "outputs": [
    {
     "ename": "NameError",
     "evalue": "name 'return_value' is not defined",
     "output_type": "error",
     "traceback": [
      "\u001b[1;31m---------------------------------------------------------------------------\u001b[0m",
      "\u001b[1;31mNameError\u001b[0m                                 Traceback (most recent call last)",
      "\u001b[1;32m<ipython-input-9-8148eb9ea180>\u001b[0m in \u001b[0;36m<module>\u001b[1;34m\u001b[0m\n\u001b[1;32m----> 1\u001b[1;33m \u001b[1;32massert\u001b[0m \u001b[0mreturn_value\u001b[0m \u001b[1;31m## TBD\u001b[0m\u001b[1;33m\u001b[0m\u001b[1;33m\u001b[0m\u001b[0m\n\u001b[0m",
      "\u001b[1;31mNameError\u001b[0m: name 'return_value' is not defined"
     ]
    }
   ],
   "source": [
    "assert return_value ## TBD"
   ]
  },
  {
   "cell_type": "markdown",
   "metadata": {},
   "source": [
    "### From XML file"
   ]
  },
  {
   "cell_type": "code",
   "execution_count": 4,
   "metadata": {},
   "outputs": [],
   "source": [
    "xml_cmd = \"\"\"\n",
    "fast_xbrl_parser.exe \n",
    "--input F:\\rust_projects\\fast_xbrl_parser\\tests\\gme-20211030_htm.xml\"\n",
    "--json --facts --dimensions \n",
    "--save_dir \"c:/\" --email \"email@email.com\"\n",
    "\"\"\".replace(\"\\n\", \"\")"
   ]
  },
  {
   "cell_type": "code",
   "execution_count": null,
   "metadata": {},
   "outputs": [],
   "source": [
    "return_value = os.popen(xml_cmd).read()"
   ]
  },
  {
   "cell_type": "code",
   "execution_count": null,
   "metadata": {},
   "outputs": [],
   "source": [
    "assert return_value ## TBD"
   ]
  },
  {
   "cell_type": "code",
   "execution_count": null,
   "metadata": {},
   "outputs": [],
   "source": []
  }
 ],
 "metadata": {
  "kernelspec": {
   "display_name": "Python 3",
   "language": "python",
   "name": "python3"
  },
  "language_info": {
   "codemirror_mode": {
    "name": "ipython",
    "version": 3
   },
   "file_extension": ".py",
   "mimetype": "text/x-python",
   "name": "python",
   "nbconvert_exporter": "python",
   "pygments_lexer": "ipython3",
   "version": "3.7.4"
  }
 },
 "nbformat": 4,
 "nbformat_minor": 2
}
